{
 "cells": [
  {
   "cell_type": "markdown",
   "source": [
    "Auteur : Wayan CRAIN, Yanis AOUDJIT, Arnaud CHÉRIDI\n",
    "<br><br>\n",
    "Rôles :\n",
    "  * Wayan CRAIN : Partie 2 : Q3 + Q4\n",
    "  * Yanis AOUDJIT : Partie 2 : Q1 + Q2 + Q Bonus\n",
    "  * Arnaud CHÉRIDI : Partie 1\n",
    "\n",
    "<br><br>\n",
    "Ce notebook a été exécuté dans l'environnement Google Collab"
   ],
   "metadata": {
    "id": "9AorWvSkEvn8"
   }
  },
  {
   "cell_type": "markdown",
   "source": "# Projet Deep Learning : Classificateur comme générateur",
   "metadata": {
    "id": "KLHvGrvaNODy"
   }
  },
  {
   "cell_type": "markdown",
   "source": "## Partie 0 : Initialisation : environnement, seed et données",
   "metadata": {
    "id": "sLSU_-H1Jbe5"
   }
  },
  {
   "cell_type": "code",
   "execution_count": null,
   "metadata": {
    "id": "R1p1j78FBRZV",
    "collapsed": true
   },
   "outputs": [],
   "source": [
    "# Importation des librairies\n",
    "import numpy as np\n",
    "import tensorflow as tf\n",
    "import matplotlib.pyplot as plt\n",
    "from sklearn.neighbors import KNeighborsClassifier\n",
    "from sklearn.linear_model import LogisticRegression\n",
    "from sklearn.decomposition import PCA"
   ]
  },
  {
   "cell_type": "code",
   "execution_count": null,
   "metadata": {
    "id": "TXKNMIgnBWC-"
   },
   "outputs": [],
   "source": [
    "# Initialisation de la seed\n",
    "seed = 42\n",
    "np.random.seed(seed)\n",
    "tf.random.set_seed(seed)"
   ]
  },
  {
   "cell_type": "code",
   "execution_count": null,
   "metadata": {
    "id": "DVJi0KGRBZ42",
    "colab": {
     "base_uri": "https://localhost:8080/"
    },
    "outputId": "e8c229c1-ba58-40cb-ec0b-7355e3b7d7f7"
   },
   "outputs": [
    {
     "output_type": "stream",
     "name": "stdout",
     "text": [
      "Downloading data from https://storage.googleapis.com/tensorflow/tf-keras-datasets/mnist.npz\n",
      "\u001B[1m11490434/11490434\u001B[0m \u001B[32m━━━━━━━━━━━━━━━━━━━━\u001B[0m\u001B[37m\u001B[0m \u001B[1m0s\u001B[0m 0us/step\n"
     ]
    }
   ],
   "source": [
    "# Importation des données\n",
    "(X_train, y_train), (X_test, y_test) = tf.keras.datasets.mnist.load_data()\n",
    "\n",
    "# Normalisation\n",
    "X_train, X_test = X_train / 255.0, X_test / 255.0\n",
    "\n",
    "# Ajouter une dimension pour les canaux (nécessaire pour CNN)\n",
    "X_train = X_train[..., np.newaxis]\n",
    "X_test = X_test[..., np.newaxis]"
   ]
  },
  {
   "cell_type": "markdown",
   "source": [
    "## Partie 1 : Entraînement du modèle, ablation, comparaison"
   ],
   "metadata": {
    "id": "k9BX9ZiYOg50"
   }
  },
  {
   "cell_type": "markdown",
   "source": [
    "### A. Entraînement du modèle"
   ],
   "metadata": {
    "id": "_2MQApilmhbU"
   }
  },
  {
   "cell_type": "markdown",
   "source": [
    "Dans un premier temps nous avons choisi le modèle ci-dessous."
   ],
   "metadata": {
    "id": "FIVrD1-iLlo-"
   }
  },
  {
   "cell_type": "code",
   "execution_count": null,
   "metadata": {
    "colab": {
     "base_uri": "https://localhost:8080/"
    },
    "id": "pwSLxMAEBd0U",
    "outputId": "293462c9-6e09-43fd-ac9a-4cd8c596aa13"
   },
   "outputs": [
    {
     "output_type": "stream",
     "name": "stderr",
     "text": [
      "/usr/local/lib/python3.11/dist-packages/keras/src/layers/convolutional/base_conv.py:107: UserWarning: Do not pass an `input_shape`/`input_dim` argument to a layer. When using Sequential models, prefer using an `Input(shape)` object as the first layer in the model instead.\n",
      "  super().__init__(activity_regularizer=activity_regularizer, **kwargs)\n"
     ]
    }
   ],
   "source": [
    "# Création du modèle\n",
    "model = tf.keras.Sequential([\n",
    "        tf.keras.layers.Conv2D(32, (3, 3), activation='relu', input_shape=(28, 28, 1)),\n",
    "        tf.keras.layers.MaxPooling2D((2, 2)),\n",
    "        tf.keras.layers.Conv2D(64, (3, 3), activation='relu'),\n",
    "        tf.keras.layers.MaxPooling2D((2, 2)),\n",
    "        tf.keras.layers.Flatten(),\n",
    "        tf.keras.layers.Dense(128, activation='relu'),\n",
    "        tf.keras.layers.Dense(10, activation='softmax')\n",
    "    ])"
   ]
  },
  {
   "cell_type": "code",
   "execution_count": null,
   "metadata": {
    "colab": {
     "base_uri": "https://localhost:8080/",
     "height": 364
    },
    "id": "RnptxRSIQ1pY",
    "outputId": "36c7ee78-09ce-4e36-b146-9f4f6864a0f5"
   },
   "outputs": [
    {
     "output_type": "display_data",
     "data": {
      "text/plain": [
       "\u001B[1mModel: \"sequential\"\u001B[0m\n"
      ],
      "text/html": [
       "<pre style=\"white-space:pre;overflow-x:auto;line-height:normal;font-family:Menlo,'DejaVu Sans Mono',consolas,'Courier New',monospace\"><span style=\"font-weight: bold\">Model: \"sequential\"</span>\n",
       "</pre>\n"
      ]
     },
     "metadata": {}
    },
    {
     "output_type": "display_data",
     "data": {
      "text/plain": [
       "┏━━━━━━━━━━━━━━━━━━━━━━━━━━━━━━━━━━━━━━┳━━━━━━━━━━━━━━━━━━━━━━━━━━━━━┳━━━━━━━━━━━━━━━━━┓\n",
       "┃\u001B[1m \u001B[0m\u001B[1mLayer (type)                        \u001B[0m\u001B[1m \u001B[0m┃\u001B[1m \u001B[0m\u001B[1mOutput Shape               \u001B[0m\u001B[1m \u001B[0m┃\u001B[1m \u001B[0m\u001B[1m        Param #\u001B[0m\u001B[1m \u001B[0m┃\n",
       "┡━━━━━━━━━━━━━━━━━━━━━━━━━━━━━━━━━━━━━━╇━━━━━━━━━━━━━━━━━━━━━━━━━━━━━╇━━━━━━━━━━━━━━━━━┩\n",
       "│ conv2d (\u001B[38;5;33mConv2D\u001B[0m)                      │ (\u001B[38;5;45mNone\u001B[0m, \u001B[38;5;34m26\u001B[0m, \u001B[38;5;34m26\u001B[0m, \u001B[38;5;34m32\u001B[0m)          │             \u001B[38;5;34m320\u001B[0m │\n",
       "├──────────────────────────────────────┼─────────────────────────────┼─────────────────┤\n",
       "│ max_pooling2d (\u001B[38;5;33mMaxPooling2D\u001B[0m)         │ (\u001B[38;5;45mNone\u001B[0m, \u001B[38;5;34m13\u001B[0m, \u001B[38;5;34m13\u001B[0m, \u001B[38;5;34m32\u001B[0m)          │               \u001B[38;5;34m0\u001B[0m │\n",
       "├──────────────────────────────────────┼─────────────────────────────┼─────────────────┤\n",
       "│ conv2d_1 (\u001B[38;5;33mConv2D\u001B[0m)                    │ (\u001B[38;5;45mNone\u001B[0m, \u001B[38;5;34m11\u001B[0m, \u001B[38;5;34m11\u001B[0m, \u001B[38;5;34m64\u001B[0m)          │          \u001B[38;5;34m18,496\u001B[0m │\n",
       "├──────────────────────────────────────┼─────────────────────────────┼─────────────────┤\n",
       "│ max_pooling2d_1 (\u001B[38;5;33mMaxPooling2D\u001B[0m)       │ (\u001B[38;5;45mNone\u001B[0m, \u001B[38;5;34m5\u001B[0m, \u001B[38;5;34m5\u001B[0m, \u001B[38;5;34m64\u001B[0m)            │               \u001B[38;5;34m0\u001B[0m │\n",
       "├──────────────────────────────────────┼─────────────────────────────┼─────────────────┤\n",
       "│ flatten (\u001B[38;5;33mFlatten\u001B[0m)                    │ (\u001B[38;5;45mNone\u001B[0m, \u001B[38;5;34m1600\u001B[0m)                │               \u001B[38;5;34m0\u001B[0m │\n",
       "├──────────────────────────────────────┼─────────────────────────────┼─────────────────┤\n",
       "│ dense (\u001B[38;5;33mDense\u001B[0m)                        │ (\u001B[38;5;45mNone\u001B[0m, \u001B[38;5;34m128\u001B[0m)                 │         \u001B[38;5;34m204,928\u001B[0m │\n",
       "├──────────────────────────────────────┼─────────────────────────────┼─────────────────┤\n",
       "│ dense_1 (\u001B[38;5;33mDense\u001B[0m)                      │ (\u001B[38;5;45mNone\u001B[0m, \u001B[38;5;34m10\u001B[0m)                  │           \u001B[38;5;34m1,290\u001B[0m │\n",
       "└──────────────────────────────────────┴─────────────────────────────┴─────────────────┘\n"
      ],
      "text/html": [
       "<pre style=\"white-space:pre;overflow-x:auto;line-height:normal;font-family:Menlo,'DejaVu Sans Mono',consolas,'Courier New',monospace\">┏━━━━━━━━━━━━━━━━━━━━━━━━━━━━━━━━━━━━━━┳━━━━━━━━━━━━━━━━━━━━━━━━━━━━━┳━━━━━━━━━━━━━━━━━┓\n",
       "┃<span style=\"font-weight: bold\"> Layer (type)                         </span>┃<span style=\"font-weight: bold\"> Output Shape                </span>┃<span style=\"font-weight: bold\">         Param # </span>┃\n",
       "┡━━━━━━━━━━━━━━━━━━━━━━━━━━━━━━━━━━━━━━╇━━━━━━━━━━━━━━━━━━━━━━━━━━━━━╇━━━━━━━━━━━━━━━━━┩\n",
       "│ conv2d (<span style=\"color: #0087ff; text-decoration-color: #0087ff\">Conv2D</span>)                      │ (<span style=\"color: #00d7ff; text-decoration-color: #00d7ff\">None</span>, <span style=\"color: #00af00; text-decoration-color: #00af00\">26</span>, <span style=\"color: #00af00; text-decoration-color: #00af00\">26</span>, <span style=\"color: #00af00; text-decoration-color: #00af00\">32</span>)          │             <span style=\"color: #00af00; text-decoration-color: #00af00\">320</span> │\n",
       "├──────────────────────────────────────┼─────────────────────────────┼─────────────────┤\n",
       "│ max_pooling2d (<span style=\"color: #0087ff; text-decoration-color: #0087ff\">MaxPooling2D</span>)         │ (<span style=\"color: #00d7ff; text-decoration-color: #00d7ff\">None</span>, <span style=\"color: #00af00; text-decoration-color: #00af00\">13</span>, <span style=\"color: #00af00; text-decoration-color: #00af00\">13</span>, <span style=\"color: #00af00; text-decoration-color: #00af00\">32</span>)          │               <span style=\"color: #00af00; text-decoration-color: #00af00\">0</span> │\n",
       "├──────────────────────────────────────┼─────────────────────────────┼─────────────────┤\n",
       "│ conv2d_1 (<span style=\"color: #0087ff; text-decoration-color: #0087ff\">Conv2D</span>)                    │ (<span style=\"color: #00d7ff; text-decoration-color: #00d7ff\">None</span>, <span style=\"color: #00af00; text-decoration-color: #00af00\">11</span>, <span style=\"color: #00af00; text-decoration-color: #00af00\">11</span>, <span style=\"color: #00af00; text-decoration-color: #00af00\">64</span>)          │          <span style=\"color: #00af00; text-decoration-color: #00af00\">18,496</span> │\n",
       "├──────────────────────────────────────┼─────────────────────────────┼─────────────────┤\n",
       "│ max_pooling2d_1 (<span style=\"color: #0087ff; text-decoration-color: #0087ff\">MaxPooling2D</span>)       │ (<span style=\"color: #00d7ff; text-decoration-color: #00d7ff\">None</span>, <span style=\"color: #00af00; text-decoration-color: #00af00\">5</span>, <span style=\"color: #00af00; text-decoration-color: #00af00\">5</span>, <span style=\"color: #00af00; text-decoration-color: #00af00\">64</span>)            │               <span style=\"color: #00af00; text-decoration-color: #00af00\">0</span> │\n",
       "├──────────────────────────────────────┼─────────────────────────────┼─────────────────┤\n",
       "│ flatten (<span style=\"color: #0087ff; text-decoration-color: #0087ff\">Flatten</span>)                    │ (<span style=\"color: #00d7ff; text-decoration-color: #00d7ff\">None</span>, <span style=\"color: #00af00; text-decoration-color: #00af00\">1600</span>)                │               <span style=\"color: #00af00; text-decoration-color: #00af00\">0</span> │\n",
       "├──────────────────────────────────────┼─────────────────────────────┼─────────────────┤\n",
       "│ dense (<span style=\"color: #0087ff; text-decoration-color: #0087ff\">Dense</span>)                        │ (<span style=\"color: #00d7ff; text-decoration-color: #00d7ff\">None</span>, <span style=\"color: #00af00; text-decoration-color: #00af00\">128</span>)                 │         <span style=\"color: #00af00; text-decoration-color: #00af00\">204,928</span> │\n",
       "├──────────────────────────────────────┼─────────────────────────────┼─────────────────┤\n",
       "│ dense_1 (<span style=\"color: #0087ff; text-decoration-color: #0087ff\">Dense</span>)                      │ (<span style=\"color: #00d7ff; text-decoration-color: #00d7ff\">None</span>, <span style=\"color: #00af00; text-decoration-color: #00af00\">10</span>)                  │           <span style=\"color: #00af00; text-decoration-color: #00af00\">1,290</span> │\n",
       "└──────────────────────────────────────┴─────────────────────────────┴─────────────────┘\n",
       "</pre>\n"
      ]
     },
     "metadata": {}
    },
    {
     "output_type": "display_data",
     "data": {
      "text/plain": [
       "\u001B[1m Total params: \u001B[0m\u001B[38;5;34m225,034\u001B[0m (879.04 KB)\n"
      ],
      "text/html": [
       "<pre style=\"white-space:pre;overflow-x:auto;line-height:normal;font-family:Menlo,'DejaVu Sans Mono',consolas,'Courier New',monospace\"><span style=\"font-weight: bold\"> Total params: </span><span style=\"color: #00af00; text-decoration-color: #00af00\">225,034</span> (879.04 KB)\n",
       "</pre>\n"
      ]
     },
     "metadata": {}
    },
    {
     "output_type": "display_data",
     "data": {
      "text/plain": [
       "\u001B[1m Trainable params: \u001B[0m\u001B[38;5;34m225,034\u001B[0m (879.04 KB)\n"
      ],
      "text/html": [
       "<pre style=\"white-space:pre;overflow-x:auto;line-height:normal;font-family:Menlo,'DejaVu Sans Mono',consolas,'Courier New',monospace\"><span style=\"font-weight: bold\"> Trainable params: </span><span style=\"color: #00af00; text-decoration-color: #00af00\">225,034</span> (879.04 KB)\n",
       "</pre>\n"
      ]
     },
     "metadata": {}
    },
    {
     "output_type": "display_data",
     "data": {
      "text/plain": [
       "\u001B[1m Non-trainable params: \u001B[0m\u001B[38;5;34m0\u001B[0m (0.00 B)\n"
      ],
      "text/html": [
       "<pre style=\"white-space:pre;overflow-x:auto;line-height:normal;font-family:Menlo,'DejaVu Sans Mono',consolas,'Courier New',monospace\"><span style=\"font-weight: bold\"> Non-trainable params: </span><span style=\"color: #00af00; text-decoration-color: #00af00\">0</span> (0.00 B)\n",
       "</pre>\n"
      ]
     },
     "metadata": {}
    }
   ],
   "source": [
    "model.summary()"
   ]
  },
  {
   "cell_type": "markdown",
   "source": [
    "1.   Structure générale du modèle\n",
    "  * Le modèle que nous utilisons est un réseau neuronal convolutif (CNN) utilisé pour classifier des images du dataset MNIST (images de chiffres manuscrits).\n",
    "2.   Explication des couches\n",
    "  * conv2d : Cette couche applique une convolution 2D avec 32 filtres de taille $3 \\times 3$. Ces filtres apprennent à détecter des motifs, comme les bords ou les textures, dans les images. Le résultat est une carte contenant 32 canaux, où chaque canal met en évidence un motif spécifique détecté par un filtre. Cette étape aide à simplifier les données en mettant en avant les caractéristiques importantes, tout en rendant le modèle plus robuste face aux petites variations.\n",
    "\n",
    "  * max_pooling2d : Cette couche réduit la taille des images en ne gardant que les valeurs maximales dans chaque région $2 \\times 2$. Elle diminue la taille des cartes de caractéristiques de $26 \\times 26$ à $13 \\times 13$, réduisant ainsi le nombre de pixels par 4. Cette simplification permet de diminuer le coût de calcul et de rendre le modèle plus efficace, tout en capturant des détails essentiels.\n",
    "\n",
    "  * conv2d_1 : Similaire à la couche conv2d mais avec 64 filtres.\n",
    "\n",
    "  * max_pooling2d_1 : Identiques à max_pooling2d.\n",
    "\n",
    "  * flatten : Cette étape aplatie les cartes de caractéristiques en 3D (de dimension $5 \\times 5 \\times 64$) en un vecteur 1D. Cela permet de préparer les données pour les couches pleinement connectées suivantes.\n",
    "\n",
    "  * dense : Cette couche connecte chaque élément du vecteur d'entrée (de dimension 1600) à un vecteur de sortie (de dimension 128) grâce à une transformation linéaire, suivie d'une activation ReLU. La transformation est donnée par : $z = W \\cdot x + b$ où $W \\in \\mathbb{R}^{128 \\times 1600}$ est la matrice de poids, $x \\in \\mathbb{R}^{1600}$ est le vecteur d'entrée et $b \\in \\mathbb{R}^{128}$ le vecteur de biais. Chaque composante $z_i$ subit ensuite l'activation ReLU : $\\sigma(z_i) = \\max(0, z_i)$.\n",
    "\n",
    "  * dense_1 : Similaire à la couche dense mais avce une fonction d'activation Softmax qui transforme la sortie en probabilités normalisées sur 10 classes, définie par : $\\sigma(z_i) = \\frac{e^{z_i}}{\\sum_{j=1}^{10} e^{z_j}}$.\n",
    "\n",
    "3. L'image d'entrée est naturellement en 2D (hauteur et largeur), mais dans un contexte de calcul avec CNN, elle est étendue dans un espace tridimensionnel $\\mathbb{R}^{H \\times W \\times C}$, où H est la hauteur, W la largeur, et C le nombre de canaux de couleur. Dans notre cas, l'image est en niveaux de gris (C = 1), donc elle se situe dans $\\mathbb{R}^{28 \\times 28 \\times 1}$.\n",
    "\n",
    "4. Nombre de paramètres :\\\n",
    "Pour une couche convolutionnelle, la formule est :\\\n",
    "Paramètres = $(\\text{Taille du filtre})^2 \\times (\\text{Canaux d'entrée}) \\times (\\text{Nombre de filtres}) + (\\text{Nombre de filtres})$\n",
    "  \n",
    "  * conv2d : $(3 \\times 3) \\times 1 \\times 32 + 32 = 320$\n",
    "  * conv2d_1 : $(3 \\times 3) \\times 32 \\times 64 + 64 = 18,496 $\n",
    "\n",
    "  Pour une couche dense, la formule est :\\\n",
    "Paramètres = $(\\text{Neurones d'entrée} + 1) \\times (\\text{Neurones de sortie})$\n",
    "\n",
    "  * dense : $(1600 + 1) \\times 128 = 204,928$\n",
    "  * dense_1 : $(128 + 1) \\times 10 = 1,290$\n",
    "\n",
    "\n",
    "5. Le modèle effectue les étapes suivantes :\n",
    "\t*\tExtraction des caractéristiques avec des convolutions et max-pooling.\n",
    "\t* Réduction de la taille spatiale tout en augmentant la profondeur des canaux (de 1 à 64).\n",
    "\t* Classification via des couches denses après une mise à plat des caractéristiques extraites."
   ],
   "metadata": {
    "id": "a0KsrAhOKx_N"
   }
  },
  {
   "cell_type": "code",
   "execution_count": null,
   "metadata": {
    "id": "rLsCWS3mQuei"
   },
   "outputs": [],
   "source": [
    "# Compilation du modèle\n",
    "model.compile(optimizer='adam',\n",
    "                  loss='sparse_categorical_crossentropy',\n",
    "                  metrics=['accuracy'])"
   ]
  },
  {
   "cell_type": "code",
   "source": [
    "# Définir un callback pour sauvegarder le meilleur modèle\n",
    "checkpoint = tf.keras.callbacks.ModelCheckpoint(\n",
    "    filepath='best_model.keras',  # Chemin où le modèle sera sauvegardé\n",
    "    monitor='val_loss',       # Critère à surveiller\n",
    "    save_best_only=True,      # Sauvegarde uniquement si le modèle est meilleur\n",
    "    mode='min'\n",
    ")"
   ],
   "metadata": {
    "id": "iAAoi0WmMbnP"
   },
   "execution_count": null,
   "outputs": []
  },
  {
   "cell_type": "code",
   "execution_count": null,
   "metadata": {
    "colab": {
     "base_uri": "https://localhost:8080/"
    },
    "id": "UZtrOkAjBo4K",
    "outputId": "0cee239d-476f-410f-d848-4142c1c5ef67"
   },
   "outputs": [
    {
     "output_type": "stream",
     "name": "stdout",
     "text": [
      "Epoch 1/10\n",
      "\u001B[1m1875/1875\u001B[0m \u001B[32m━━━━━━━━━━━━━━━━━━━━\u001B[0m\u001B[37m\u001B[0m \u001B[1m18s\u001B[0m 5ms/step - accuracy: 0.9133 - loss: 0.2805 - val_accuracy: 0.9853 - val_loss: 0.0464\n",
      "Epoch 2/10\n",
      "\u001B[1m1875/1875\u001B[0m \u001B[32m━━━━━━━━━━━━━━━━━━━━\u001B[0m\u001B[37m\u001B[0m \u001B[1m11s\u001B[0m 3ms/step - accuracy: 0.9861 - loss: 0.0431 - val_accuracy: 0.9885 - val_loss: 0.0331\n",
      "Epoch 3/10\n",
      "\u001B[1m1875/1875\u001B[0m \u001B[32m━━━━━━━━━━━━━━━━━━━━\u001B[0m\u001B[37m\u001B[0m \u001B[1m9s\u001B[0m 3ms/step - accuracy: 0.9917 - loss: 0.0263 - val_accuracy: 0.9911 - val_loss: 0.0285\n",
      "Epoch 4/10\n",
      "\u001B[1m1875/1875\u001B[0m \u001B[32m━━━━━━━━━━━━━━━━━━━━\u001B[0m\u001B[37m\u001B[0m \u001B[1m9s\u001B[0m 2ms/step - accuracy: 0.9947 - loss: 0.0183 - val_accuracy: 0.9902 - val_loss: 0.0335\n",
      "Epoch 5/10\n",
      "\u001B[1m1875/1875\u001B[0m \u001B[32m━━━━━━━━━━━━━━━━━━━━\u001B[0m\u001B[37m\u001B[0m \u001B[1m6s\u001B[0m 3ms/step - accuracy: 0.9960 - loss: 0.0120 - val_accuracy: 0.9901 - val_loss: 0.0346\n",
      "Epoch 6/10\n",
      "\u001B[1m1875/1875\u001B[0m \u001B[32m━━━━━━━━━━━━━━━━━━━━\u001B[0m\u001B[37m\u001B[0m \u001B[1m10s\u001B[0m 3ms/step - accuracy: 0.9956 - loss: 0.0124 - val_accuracy: 0.9883 - val_loss: 0.0417\n",
      "Epoch 7/10\n",
      "\u001B[1m1875/1875\u001B[0m \u001B[32m━━━━━━━━━━━━━━━━━━━━\u001B[0m\u001B[37m\u001B[0m \u001B[1m5s\u001B[0m 3ms/step - accuracy: 0.9970 - loss: 0.0091 - val_accuracy: 0.9921 - val_loss: 0.0336\n",
      "Epoch 8/10\n",
      "\u001B[1m1875/1875\u001B[0m \u001B[32m━━━━━━━━━━━━━━━━━━━━\u001B[0m\u001B[37m\u001B[0m \u001B[1m11s\u001B[0m 3ms/step - accuracy: 0.9968 - loss: 0.0094 - val_accuracy: 0.9891 - val_loss: 0.0377\n",
      "Epoch 9/10\n",
      "\u001B[1m1875/1875\u001B[0m \u001B[32m━━━━━━━━━━━━━━━━━━━━\u001B[0m\u001B[37m\u001B[0m \u001B[1m10s\u001B[0m 3ms/step - accuracy: 0.9982 - loss: 0.0054 - val_accuracy: 0.9892 - val_loss: 0.0510\n",
      "Epoch 10/10\n",
      "\u001B[1m1875/1875\u001B[0m \u001B[32m━━━━━━━━━━━━━━━━━━━━\u001B[0m\u001B[37m\u001B[0m \u001B[1m5s\u001B[0m 3ms/step - accuracy: 0.9980 - loss: 0.0060 - val_accuracy: 0.9897 - val_loss: 0.0458\n"
     ]
    }
   ],
   "source": [
    "# Entraînement du modèle\n",
    "history = model.fit(X_train, y_train, epochs=10, validation_data=(X_test, y_test), callbacks=[checkpoint])"
   ]
  },
  {
   "cell_type": "code",
   "execution_count": null,
   "metadata": {
    "colab": {
     "base_uri": "https://localhost:8080/",
     "height": 474
    },
    "id": "Vt__riw4BpiS",
    "outputId": "5071752b-97dc-4b35-f9b4-620a6168f0ad"
   },
   "outputs": [
    {
     "output_type": "display_data",
     "data": {
      "text/plain": [
       "<Figure size 640x480 with 1 Axes>"
      ],
      "image/png": "[encoded data removed]"
     },
     "metadata": {}
    }
   ],
   "source": [
    "# Décalage de l'axe des x : +1\n",
    "epochs = range(1, len(history.history['loss']) + 1)\n",
    "\n",
    "# Visualisation de la convergence\n",
    "plt.plot(epochs, history.history['loss'], label='Loss (Entraînement)')\n",
    "plt.plot(epochs, history.history['val_loss'], label='Loss (Validation)')\n",
    "plt.xlabel('Époque')\n",
    "plt.ylabel('Loss')\n",
    "plt.legend()\n",
    "plt.title('Convergence de la fonction Loss')\n",
    "plt.show()"
   ]
  },
  {
   "cell_type": "markdown",
   "source": [
    "Le graphique montre que la perte d'entraînement (courbe bleue) diminue rapidement, indiquant un apprentissage efficace. Cependant, dès une certaine époque, on observe une augmentation de la perte de validation (courbe orange), ce qui suggère le début d'un surapprentissage. Sauvegarder le modèle à ce moment précis semble être une décision judicieuse."
   ],
   "metadata": {
    "id": "S4XO4XU2m88J"
   }
  },
  {
   "cell_type": "code",
   "source": [
    "# Trouver l'index de la plus petite valeur\n",
    "index_min_val_loss = history.history['val_loss'].index(min(history.history['val_loss']))\n",
    "\n",
    "print(f\" Le modèle sauvegardé est obtenu à la {index_min_val_loss + 1}ème epoch\")"
   ],
   "metadata": {
    "colab": {
     "base_uri": "https://localhost:8080/"
    },
    "id": "eItfwmE2vEIs",
    "outputId": "708699ca-e96f-40ea-f33b-872e03c5b6f2"
   },
   "execution_count": null,
   "outputs": [
    {
     "output_type": "stream",
     "name": "stdout",
     "text": [
      " Le modèle sauvegardé est obtenu à la 3ème epoch\n"
     ]
    }
   ]
  },
  {
   "cell_type": "code",
   "execution_count": null,
   "metadata": {
    "id": "5dPQWG9uCyL6"
   },
   "outputs": [],
   "source": [
    "cnn = tf.keras.models.load_model('best_model.keras')"
   ]
  },
  {
   "cell_type": "code",
   "execution_count": null,
   "metadata": {
    "colab": {
     "base_uri": "https://localhost:8080/"
    },
    "id": "pD3ueFFMC5f3",
    "outputId": "ee2fba13-22a5-49b9-c4be-c0e72e77ef12"
   },
   "outputs": [
    {
     "output_type": "stream",
     "name": "stdout",
     "text": [
      "313/313 - 1s - 4ms/step - accuracy: 0.9911 - loss: 0.0285\n",
      "Précision sur les données de test : 99.11%\n"
     ]
    }
   ],
   "source": [
    "_, test_acc = cnn.evaluate(X_test, y_test,verbose=2)\n",
    "print(f\"Précision sur les données de test : {test_acc:.2%}\")"
   ]
  },
  {
   "cell_type": "markdown",
   "source": [
    "### B. Ablation"
   ],
   "metadata": {
    "id": "6-lkTdAhmq1g"
   }
  },
  {
   "cell_type": "markdown",
   "source": [
    "Dans cette partie, nous allons effectuer différentes ablations et modifications du modèle afin de tester les performances en comparaison au modèle précédent."
   ],
   "metadata": {
    "id": "vGuqxaIfqMZg"
   }
  },
  {
   "cell_type": "markdown",
   "source": [
    "1. Retirons la deuxième couche de convolution"
   ],
   "metadata": {
    "id": "-s3dZcCdqKRA"
   }
  },
  {
   "cell_type": "code",
   "source": [
    "# Création du modèle\n",
    "model1 = tf.keras.Sequential([\n",
    "        tf.keras.layers.Conv2D(32, (3, 3), activation='relu', input_shape=(28, 28, 1)),\n",
    "        tf.keras.layers.MaxPooling2D((2, 2)),\n",
    "        tf.keras.layers.Flatten(),\n",
    "        tf.keras.layers.Dense(128, activation='relu'),\n",
    "        tf.keras.layers.Dense(10, activation='softmax')\n",
    "    ])\n",
    "\n",
    "# Compilation du modèle\n",
    "model1.compile(optimizer='adam',\n",
    "                  loss='sparse_categorical_crossentropy',\n",
    "                  metrics=['accuracy'])\n",
    "\n",
    "# Entraînement du modèle\n",
    "model1.fit(X_train, y_train, epochs=10, validation_data=(X_test, y_test))"
   ],
   "metadata": {
    "id": "FCcVgwdsmvND",
    "colab": {
     "base_uri": "https://localhost:8080/"
    },
    "outputId": "5672ad27-ce21-4f4c-fa2b-af8914c6899a"
   },
   "execution_count": null,
   "outputs": [
    {
     "output_type": "stream",
     "name": "stdout",
     "text": [
      "Epoch 1/10\n",
      "\u001B[1m1875/1875\u001B[0m \u001B[32m━━━━━━━━━━━━━━━━━━━━\u001B[0m\u001B[37m\u001B[0m \u001B[1m8s\u001B[0m 3ms/step - accuracy: 0.9088 - loss: 0.3024 - val_accuracy: 0.9780 - val_loss: 0.0666\n",
      "Epoch 2/10\n",
      "\u001B[1m1875/1875\u001B[0m \u001B[32m━━━━━━━━━━━━━━━━━━━━\u001B[0m\u001B[37m\u001B[0m \u001B[1m4s\u001B[0m 2ms/step - accuracy: 0.9832 - loss: 0.0545 - val_accuracy: 0.9823 - val_loss: 0.0502\n",
      "Epoch 3/10\n",
      "\u001B[1m1875/1875\u001B[0m \u001B[32m━━━━━━━━━━━━━━━━━━━━\u001B[0m\u001B[37m\u001B[0m \u001B[1m5s\u001B[0m 2ms/step - accuracy: 0.9904 - loss: 0.0320 - val_accuracy: 0.9861 - val_loss: 0.0430\n",
      "Epoch 4/10\n",
      "\u001B[1m1875/1875\u001B[0m \u001B[32m━━━━━━━━━━━━━━━━━━━━\u001B[0m\u001B[37m\u001B[0m \u001B[1m5s\u001B[0m 2ms/step - accuracy: 0.9943 - loss: 0.0188 - val_accuracy: 0.9864 - val_loss: 0.0427\n",
      "Epoch 5/10\n",
      "\u001B[1m1875/1875\u001B[0m \u001B[32m━━━━━━━━━━━━━━━━━━━━\u001B[0m\u001B[37m\u001B[0m \u001B[1m6s\u001B[0m 3ms/step - accuracy: 0.9963 - loss: 0.0123 - val_accuracy: 0.9845 - val_loss: 0.0567\n",
      "Epoch 6/10\n",
      "\u001B[1m1875/1875\u001B[0m \u001B[32m━━━━━━━━━━━━━━━━━━━━\u001B[0m\u001B[37m\u001B[0m \u001B[1m4s\u001B[0m 2ms/step - accuracy: 0.9965 - loss: 0.0108 - val_accuracy: 0.9861 - val_loss: 0.0541\n",
      "Epoch 7/10\n",
      "\u001B[1m1875/1875\u001B[0m \u001B[32m━━━━━━━━━━━━━━━━━━━━\u001B[0m\u001B[37m\u001B[0m \u001B[1m4s\u001B[0m 2ms/step - accuracy: 0.9976 - loss: 0.0069 - val_accuracy: 0.9857 - val_loss: 0.0502\n",
      "Epoch 8/10\n",
      "\u001B[1m1875/1875\u001B[0m \u001B[32m━━━━━━━━━━━━━━━━━━━━\u001B[0m\u001B[37m\u001B[0m \u001B[1m6s\u001B[0m 3ms/step - accuracy: 0.9984 - loss: 0.0049 - val_accuracy: 0.9863 - val_loss: 0.0538\n",
      "Epoch 9/10\n",
      "\u001B[1m1875/1875\u001B[0m \u001B[32m━━━━━━━━━━━━━━━━━━━━\u001B[0m\u001B[37m\u001B[0m \u001B[1m8s\u001B[0m 2ms/step - accuracy: 0.9982 - loss: 0.0053 - val_accuracy: 0.9872 - val_loss: 0.0545\n",
      "Epoch 10/10\n",
      "\u001B[1m1875/1875\u001B[0m \u001B[32m━━━━━━━━━━━━━━━━━━━━\u001B[0m\u001B[37m\u001B[0m \u001B[1m5s\u001B[0m 3ms/step - accuracy: 0.9983 - loss: 0.0051 - val_accuracy: 0.9862 - val_loss: 0.0620\n"
     ]
    },
    {
     "output_type": "execute_result",
     "data": {
      "text/plain": [
       "<keras.src.callbacks.history.History at 0x783cac9392d0>"
      ]
     },
     "metadata": {},
     "execution_count": 13
    }
   ]
  },
  {
   "cell_type": "markdown",
   "source": [
    "2. Supprimons les couches de pooling"
   ],
   "metadata": {
    "id": "RmqOaS03qFXJ"
   }
  },
  {
   "cell_type": "code",
   "source": [
    "# Création du modèle\n",
    "model2 = tf.keras.Sequential([\n",
    "        tf.keras.layers.Conv2D(32, (3, 3), activation='relu', input_shape=(28, 28, 1)),\n",
    "        tf.keras.layers.Conv2D(64, (3, 3), activation='relu'),\n",
    "        tf.keras.layers.Flatten(),\n",
    "        tf.keras.layers.Dense(128, activation='relu'),\n",
    "        tf.keras.layers.Dense(10, activation='softmax')\n",
    "    ])\n",
    "\n",
    "# Compilation du modèle\n",
    "model2.compile(optimizer='adam',\n",
    "                  loss='sparse_categorical_crossentropy',\n",
    "                  metrics=['accuracy'])\n",
    "\n",
    "# Entraînement du modèle\n",
    "model2.fit(X_train, y_train, epochs=10, validation_data=(X_test, y_test))"
   ],
   "metadata": {
    "colab": {
     "base_uri": "https://localhost:8080/"
    },
    "id": "fCH8cdxYpAVN",
    "outputId": "671ec9f8-b6bb-4b11-de80-e78864b25cfc"
   },
   "execution_count": null,
   "outputs": [
    {
     "output_type": "stream",
     "name": "stdout",
     "text": [
      "Epoch 1/10\n",
      "\u001B[1m1875/1875\u001B[0m \u001B[32m━━━━━━━━━━━━━━━━━━━━\u001B[0m\u001B[37m\u001B[0m \u001B[1m11s\u001B[0m 5ms/step - accuracy: 0.9336 - loss: 0.2155 - val_accuracy: 0.9836 - val_loss: 0.0486\n",
      "Epoch 2/10\n",
      "\u001B[1m1875/1875\u001B[0m \u001B[32m━━━━━━━━━━━━━━━━━━━━\u001B[0m\u001B[37m\u001B[0m \u001B[1m7s\u001B[0m 4ms/step - accuracy: 0.9892 - loss: 0.0356 - val_accuracy: 0.9856 - val_loss: 0.0460\n",
      "Epoch 3/10\n",
      "\u001B[1m1875/1875\u001B[0m \u001B[32m━━━━━━━━━━━━━━━━━━━━\u001B[0m\u001B[37m\u001B[0m \u001B[1m10s\u001B[0m 4ms/step - accuracy: 0.9940 - loss: 0.0190 - val_accuracy: 0.9883 - val_loss: 0.0411\n",
      "Epoch 4/10\n",
      "\u001B[1m1875/1875\u001B[0m \u001B[32m━━━━━━━━━━━━━━━━━━━━\u001B[0m\u001B[37m\u001B[0m \u001B[1m8s\u001B[0m 4ms/step - accuracy: 0.9957 - loss: 0.0125 - val_accuracy: 0.9877 - val_loss: 0.0572\n",
      "Epoch 5/10\n",
      "\u001B[1m1875/1875\u001B[0m \u001B[32m━━━━━━━━━━━━━━━━━━━━\u001B[0m\u001B[37m\u001B[0m \u001B[1m10s\u001B[0m 4ms/step - accuracy: 0.9965 - loss: 0.0109 - val_accuracy: 0.9873 - val_loss: 0.0530\n",
      "Epoch 6/10\n",
      "\u001B[1m1875/1875\u001B[0m \u001B[32m━━━━━━━━━━━━━━━━━━━━\u001B[0m\u001B[37m\u001B[0m \u001B[1m10s\u001B[0m 4ms/step - accuracy: 0.9971 - loss: 0.0086 - val_accuracy: 0.9853 - val_loss: 0.0651\n",
      "Epoch 7/10\n",
      "\u001B[1m1875/1875\u001B[0m \u001B[32m━━━━━━━━━━━━━━━━━━━━\u001B[0m\u001B[37m\u001B[0m \u001B[1m7s\u001B[0m 4ms/step - accuracy: 0.9978 - loss: 0.0068 - val_accuracy: 0.9890 - val_loss: 0.0514\n",
      "Epoch 8/10\n",
      "\u001B[1m1875/1875\u001B[0m \u001B[32m━━━━━━━━━━━━━━━━━━━━\u001B[0m\u001B[37m\u001B[0m \u001B[1m8s\u001B[0m 4ms/step - accuracy: 0.9984 - loss: 0.0053 - val_accuracy: 0.9869 - val_loss: 0.0619\n",
      "Epoch 9/10\n",
      "\u001B[1m1875/1875\u001B[0m \u001B[32m━━━━━━━━━━━━━━━━━━━━\u001B[0m\u001B[37m\u001B[0m \u001B[1m9s\u001B[0m 4ms/step - accuracy: 0.9987 - loss: 0.0041 - val_accuracy: 0.9899 - val_loss: 0.0525\n",
      "Epoch 10/10\n",
      "\u001B[1m1875/1875\u001B[0m \u001B[32m━━━━━━━━━━━━━━━━━━━━\u001B[0m\u001B[37m\u001B[0m \u001B[1m8s\u001B[0m 4ms/step - accuracy: 0.9982 - loss: 0.0060 - val_accuracy: 0.9889 - val_loss: 0.0661\n"
     ]
    },
    {
     "output_type": "execute_result",
     "data": {
      "text/plain": [
       "<keras.src.callbacks.history.History at 0x783cabeb92d0>"
      ]
     },
     "metadata": {},
     "execution_count": 14
    }
   ]
  },
  {
   "cell_type": "markdown",
   "source": [
    "3. Réduisons le nombre de filtres dans les couches convolutionnelles pour tester leur impact"
   ],
   "metadata": {
    "id": "P9UGSuKQp_28"
   }
  },
  {
   "cell_type": "code",
   "source": [
    "# Création du modèle\n",
    "model3 = tf.keras.Sequential([\n",
    "        tf.keras.layers.Conv2D(16, (3, 3), activation='relu', input_shape=(28, 28, 1)),\n",
    "        tf.keras.layers.MaxPooling2D((2, 2)),\n",
    "        tf.keras.layers.Conv2D(32, (3, 3), activation='relu'),\n",
    "        tf.keras.layers.MaxPooling2D((2, 2)),\n",
    "        tf.keras.layers.Flatten(),\n",
    "        tf.keras.layers.Dense(128, activation='relu'),\n",
    "        tf.keras.layers.Dense(10, activation='softmax')\n",
    "    ])\n",
    "\n",
    "# Compilation du modèle\n",
    "model3.compile(optimizer='adam',\n",
    "                  loss='sparse_categorical_crossentropy',\n",
    "                  metrics=['accuracy'])\n",
    "\n",
    "# Entraînement du modèle\n",
    "model3.fit(X_train, y_train, epochs=10, validation_data=(X_test, y_test))"
   ],
   "metadata": {
    "colab": {
     "base_uri": "https://localhost:8080/"
    },
    "id": "2CuHz9DJpFWN",
    "outputId": "8a6cf6f5-1bc7-4cd0-fd2d-1cc6741731a7"
   },
   "execution_count": null,
   "outputs": [
    {
     "output_type": "stream",
     "name": "stdout",
     "text": [
      "Epoch 1/10\n",
      "\u001B[1m1875/1875\u001B[0m \u001B[32m━━━━━━━━━━━━━━━━━━━━\u001B[0m\u001B[37m\u001B[0m \u001B[1m9s\u001B[0m 3ms/step - accuracy: 0.9048 - loss: 0.3252 - val_accuracy: 0.9827 - val_loss: 0.0547\n",
      "Epoch 2/10\n",
      "\u001B[1m1875/1875\u001B[0m \u001B[32m━━━━━━━━━━━━━━━━━━━━\u001B[0m\u001B[37m\u001B[0m \u001B[1m7s\u001B[0m 2ms/step - accuracy: 0.9839 - loss: 0.0519 - val_accuracy: 0.9874 - val_loss: 0.0380\n",
      "Epoch 3/10\n",
      "\u001B[1m1875/1875\u001B[0m \u001B[32m━━━━━━━━━━━━━━━━━━━━\u001B[0m\u001B[37m\u001B[0m \u001B[1m6s\u001B[0m 3ms/step - accuracy: 0.9899 - loss: 0.0326 - val_accuracy: 0.9900 - val_loss: 0.0322\n",
      "Epoch 4/10\n",
      "\u001B[1m1875/1875\u001B[0m \u001B[32m━━━━━━━━━━━━━━━━━━━━\u001B[0m\u001B[37m\u001B[0m \u001B[1m4s\u001B[0m 2ms/step - accuracy: 0.9929 - loss: 0.0219 - val_accuracy: 0.9900 - val_loss: 0.0312\n",
      "Epoch 5/10\n",
      "\u001B[1m1875/1875\u001B[0m \u001B[32m━━━━━━━━━━━━━━━━━━━━\u001B[0m\u001B[37m\u001B[0m \u001B[1m5s\u001B[0m 2ms/step - accuracy: 0.9951 - loss: 0.0165 - val_accuracy: 0.9874 - val_loss: 0.0394\n",
      "Epoch 6/10\n",
      "\u001B[1m1875/1875\u001B[0m \u001B[32m━━━━━━━━━━━━━━━━━━━━\u001B[0m\u001B[37m\u001B[0m \u001B[1m5s\u001B[0m 3ms/step - accuracy: 0.9962 - loss: 0.0121 - val_accuracy: 0.9910 - val_loss: 0.0323\n",
      "Epoch 7/10\n",
      "\u001B[1m1875/1875\u001B[0m \u001B[32m━━━━━━━━━━━━━━━━━━━━\u001B[0m\u001B[37m\u001B[0m \u001B[1m10s\u001B[0m 2ms/step - accuracy: 0.9963 - loss: 0.0109 - val_accuracy: 0.9910 - val_loss: 0.0350\n",
      "Epoch 8/10\n",
      "\u001B[1m1875/1875\u001B[0m \u001B[32m━━━━━━━━━━━━━━━━━━━━\u001B[0m\u001B[37m\u001B[0m \u001B[1m5s\u001B[0m 2ms/step - accuracy: 0.9965 - loss: 0.0099 - val_accuracy: 0.9904 - val_loss: 0.0399\n",
      "Epoch 9/10\n",
      "\u001B[1m1875/1875\u001B[0m \u001B[32m━━━━━━━━━━━━━━━━━━━━\u001B[0m\u001B[37m\u001B[0m \u001B[1m4s\u001B[0m 2ms/step - accuracy: 0.9976 - loss: 0.0067 - val_accuracy: 0.9895 - val_loss: 0.0472\n",
      "Epoch 10/10\n",
      "\u001B[1m1875/1875\u001B[0m \u001B[32m━━━━━━━━━━━━━━━━━━━━\u001B[0m\u001B[37m\u001B[0m \u001B[1m5s\u001B[0m 3ms/step - accuracy: 0.9977 - loss: 0.0070 - val_accuracy: 0.9899 - val_loss: 0.0433\n"
     ]
    },
    {
     "output_type": "execute_result",
     "data": {
      "text/plain": [
       "<keras.src.callbacks.history.History at 0x783cabb16ad0>"
      ]
     },
     "metadata": {},
     "execution_count": 15
    }
   ]
  },
  {
   "cell_type": "markdown",
   "source": [
    "4. Supprimons la couche dense avec 128 neurones et observons les performances"
   ],
   "metadata": {
    "id": "-o4GD4cxp64N"
   }
  },
  {
   "cell_type": "code",
   "source": [
    "# Création du modèle\n",
    "model4 = tf.keras.Sequential([\n",
    "        tf.keras.layers.Conv2D(32, (3, 3), activation='relu', input_shape=(28, 28, 1)),\n",
    "        tf.keras.layers.MaxPooling2D((2, 2)),\n",
    "        tf.keras.layers.Conv2D(64, (3, 3), activation='relu'),\n",
    "        tf.keras.layers.MaxPooling2D((2, 2)),\n",
    "        tf.keras.layers.Flatten(),\n",
    "        tf.keras.layers.Dense(10, activation='softmax')\n",
    "    ])\n",
    "\n",
    "# Compilation du modèle\n",
    "model4.compile(optimizer='adam',\n",
    "                  loss='sparse_categorical_crossentropy',\n",
    "                  metrics=['accuracy'])\n",
    "\n",
    "# Entraînement du modèle\n",
    "model4.fit(X_train, y_train, epochs=10, validation_data=(X_test, y_test))"
   ],
   "metadata": {
    "colab": {
     "base_uri": "https://localhost:8080/"
    },
    "id": "2NyBcAY4pWJ_",
    "outputId": "688cafe5-0eec-4470-cfba-229325975df1"
   },
   "execution_count": null,
   "outputs": [
    {
     "output_type": "stream",
     "name": "stdout",
     "text": [
      "Epoch 1/10\n",
      "\u001B[1m1875/1875\u001B[0m \u001B[32m━━━━━━━━━━━━━━━━━━━━\u001B[0m\u001B[37m\u001B[0m \u001B[1m7s\u001B[0m 3ms/step - accuracy: 0.8919 - loss: 0.3542 - val_accuracy: 0.9825 - val_loss: 0.0571\n",
      "Epoch 2/10\n",
      "\u001B[1m1875/1875\u001B[0m \u001B[32m━━━━━━━━━━━━━━━━━━━━\u001B[0m\u001B[37m\u001B[0m \u001B[1m5s\u001B[0m 3ms/step - accuracy: 0.9827 - loss: 0.0565 - val_accuracy: 0.9839 - val_loss: 0.0461\n",
      "Epoch 3/10\n",
      "\u001B[1m1875/1875\u001B[0m \u001B[32m━━━━━━━━━━━━━━━━━━━━\u001B[0m\u001B[37m\u001B[0m \u001B[1m4s\u001B[0m 2ms/step - accuracy: 0.9885 - loss: 0.0391 - val_accuracy: 0.9856 - val_loss: 0.0396\n",
      "Epoch 4/10\n",
      "\u001B[1m1875/1875\u001B[0m \u001B[32m━━━━━━━━━━━━━━━━━━━━\u001B[0m\u001B[37m\u001B[0m \u001B[1m5s\u001B[0m 2ms/step - accuracy: 0.9916 - loss: 0.0285 - val_accuracy: 0.9882 - val_loss: 0.0330\n",
      "Epoch 5/10\n",
      "\u001B[1m1875/1875\u001B[0m \u001B[32m━━━━━━━━━━━━━━━━━━━━\u001B[0m\u001B[37m\u001B[0m \u001B[1m5s\u001B[0m 3ms/step - accuracy: 0.9940 - loss: 0.0211 - val_accuracy: 0.9886 - val_loss: 0.0352\n",
      "Epoch 6/10\n",
      "\u001B[1m1875/1875\u001B[0m \u001B[32m━━━━━━━━━━━━━━━━━━━━\u001B[0m\u001B[37m\u001B[0m \u001B[1m5s\u001B[0m 2ms/step - accuracy: 0.9954 - loss: 0.0162 - val_accuracy: 0.9877 - val_loss: 0.0411\n",
      "Epoch 7/10\n",
      "\u001B[1m1875/1875\u001B[0m \u001B[32m━━━━━━━━━━━━━━━━━━━━\u001B[0m\u001B[37m\u001B[0m \u001B[1m6s\u001B[0m 3ms/step - accuracy: 0.9965 - loss: 0.0118 - val_accuracy: 0.9871 - val_loss: 0.0410\n",
      "Epoch 8/10\n",
      "\u001B[1m1875/1875\u001B[0m \u001B[32m━━━━━━━━━━━━━━━━━━━━\u001B[0m\u001B[37m\u001B[0m \u001B[1m5s\u001B[0m 2ms/step - accuracy: 0.9961 - loss: 0.0114 - val_accuracy: 0.9863 - val_loss: 0.0549\n",
      "Epoch 9/10\n",
      "\u001B[1m1875/1875\u001B[0m \u001B[32m━━━━━━━━━━━━━━━━━━━━\u001B[0m\u001B[37m\u001B[0m \u001B[1m4s\u001B[0m 2ms/step - accuracy: 0.9972 - loss: 0.0086 - val_accuracy: 0.9870 - val_loss: 0.0549\n",
      "Epoch 10/10\n",
      "\u001B[1m1875/1875\u001B[0m \u001B[32m━━━━━━━━━━━━━━━━━━━━\u001B[0m\u001B[37m\u001B[0m \u001B[1m6s\u001B[0m 3ms/step - accuracy: 0.9970 - loss: 0.0087 - val_accuracy: 0.9875 - val_loss: 0.0494\n"
     ]
    },
    {
     "output_type": "execute_result",
     "data": {
      "text/plain": [
       "<keras.src.callbacks.history.History at 0x783cac7512d0>"
      ]
     },
     "metadata": {},
     "execution_count": 16
    }
   ]
  },
  {
   "cell_type": "markdown",
   "source": [
    "5. Testons une autre fonction d'activation"
   ],
   "metadata": {
    "id": "xabw9Lvtp3N2"
   }
  },
  {
   "cell_type": "code",
   "source": [
    "# Création du modèle\n",
    "model5 = tf.keras.Sequential([\n",
    "        tf.keras.layers.Conv2D(32, (3, 3), activation='tanh', input_shape=(28, 28, 1)),\n",
    "        tf.keras.layers.MaxPooling2D((2, 2)),\n",
    "        tf.keras.layers.Conv2D(64, (3, 3), activation='tanh'),\n",
    "        tf.keras.layers.MaxPooling2D((2, 2)),\n",
    "        tf.keras.layers.Flatten(),\n",
    "        tf.keras.layers.Dense(128, activation='tanh'),\n",
    "        tf.keras.layers.Dense(10, activation='softmax')\n",
    "    ])\n",
    "\n",
    "# Compilation du modèle\n",
    "model5.compile(optimizer='adam',\n",
    "                  loss='sparse_categorical_crossentropy',\n",
    "                  metrics=['accuracy'])\n",
    "\n",
    "# Entraînement du modèle\n",
    "model5.fit(X_train, y_train, epochs=10, validation_data=(X_test, y_test))"
   ],
   "metadata": {
    "colab": {
     "base_uri": "https://localhost:8080/"
    },
    "id": "--oZbywYpbj2",
    "outputId": "d408769f-c6f7-46da-a820-c54b1cecfa15"
   },
   "execution_count": null,
   "outputs": [
    {
     "output_type": "stream",
     "name": "stdout",
     "text": [
      "Epoch 1/10\n",
      "\u001B[1m1875/1875\u001B[0m \u001B[32m━━━━━━━━━━━━━━━━━━━━\u001B[0m\u001B[37m\u001B[0m \u001B[1m9s\u001B[0m 3ms/step - accuracy: 0.9208 - loss: 0.2598 - val_accuracy: 0.9819 - val_loss: 0.0563\n",
      "Epoch 2/10\n",
      "\u001B[1m1875/1875\u001B[0m \u001B[32m━━━━━━━━━━━━━━━━━━━━\u001B[0m\u001B[37m\u001B[0m \u001B[1m5s\u001B[0m 3ms/step - accuracy: 0.9858 - loss: 0.0477 - val_accuracy: 0.9878 - val_loss: 0.0406\n",
      "Epoch 3/10\n",
      "\u001B[1m1875/1875\u001B[0m \u001B[32m━━━━━━━━━━━━━━━━━━━━\u001B[0m\u001B[37m\u001B[0m \u001B[1m6s\u001B[0m 3ms/step - accuracy: 0.9921 - loss: 0.0269 - val_accuracy: 0.9876 - val_loss: 0.0388\n",
      "Epoch 4/10\n",
      "\u001B[1m1875/1875\u001B[0m \u001B[32m━━━━━━━━━━━━━━━━━━━━\u001B[0m\u001B[37m\u001B[0m \u001B[1m5s\u001B[0m 3ms/step - accuracy: 0.9946 - loss: 0.0181 - val_accuracy: 0.9871 - val_loss: 0.0404\n",
      "Epoch 5/10\n",
      "\u001B[1m1875/1875\u001B[0m \u001B[32m━━━━━━━━━━━━━━━━━━━━\u001B[0m\u001B[37m\u001B[0m \u001B[1m5s\u001B[0m 3ms/step - accuracy: 0.9952 - loss: 0.0151 - val_accuracy: 0.9891 - val_loss: 0.0366\n",
      "Epoch 6/10\n",
      "\u001B[1m1875/1875\u001B[0m \u001B[32m━━━━━━━━━━━━━━━━━━━━\u001B[0m\u001B[37m\u001B[0m \u001B[1m6s\u001B[0m 3ms/step - accuracy: 0.9964 - loss: 0.0113 - val_accuracy: 0.9875 - val_loss: 0.0413\n",
      "Epoch 7/10\n",
      "\u001B[1m1875/1875\u001B[0m \u001B[32m━━━━━━━━━━━━━━━━━━━━\u001B[0m\u001B[37m\u001B[0m \u001B[1m10s\u001B[0m 3ms/step - accuracy: 0.9965 - loss: 0.0110 - val_accuracy: 0.9879 - val_loss: 0.0419\n",
      "Epoch 8/10\n",
      "\u001B[1m1875/1875\u001B[0m \u001B[32m━━━━━━━━━━━━━━━━━━━━\u001B[0m\u001B[37m\u001B[0m \u001B[1m5s\u001B[0m 3ms/step - accuracy: 0.9969 - loss: 0.0091 - val_accuracy: 0.9881 - val_loss: 0.0396\n",
      "Epoch 9/10\n",
      "\u001B[1m1875/1875\u001B[0m \u001B[32m━━━━━━━━━━━━━━━━━━━━\u001B[0m\u001B[37m\u001B[0m \u001B[1m5s\u001B[0m 2ms/step - accuracy: 0.9979 - loss: 0.0076 - val_accuracy: 0.9885 - val_loss: 0.0415\n",
      "Epoch 10/10\n",
      "\u001B[1m1875/1875\u001B[0m \u001B[32m━━━━━━━━━━━━━━━━━━━━\u001B[0m\u001B[37m\u001B[0m \u001B[1m6s\u001B[0m 3ms/step - accuracy: 0.9972 - loss: 0.0088 - val_accuracy: 0.9872 - val_loss: 0.0417\n"
     ]
    },
    {
     "output_type": "execute_result",
     "data": {
      "text/plain": [
       "<keras.src.callbacks.history.History at 0x783cac4792d0>"
      ]
     },
     "metadata": {},
     "execution_count": 17
    }
   ]
  },
  {
   "cell_type": "markdown",
   "source": [
    "Lors de nos différentes simulations, nous n'avons pas obtenu de modèle avec une différence significative de résultats.\n",
    "\n",
    "Dans un contexte où le nombre de paramètres serait important, nous aurions privilégié le modèle 3 ou 4.\n",
    "\n",
    "Le modèle 3 comporte la même architecture que notre modèle initial mais avec un nombre de filtres réduit sur les couches de convolution.\n",
    "\n",
    "Le modèle 4 est aussi similaire en termes d'architecture, mais la première couche dense avec 128 neurones est supprimée et permet une réduction significative du nombre de paramètres."
   ],
   "metadata": {
    "id": "p1pnPg7ApbEk"
   }
  },
  {
   "cell_type": "markdown",
   "source": [
    "### C. Comparaison des résultats du modèle avec les modèles k-NN et Régresion Logistique"
   ],
   "metadata": {
    "id": "hyl9lkOVOp4Z"
   }
  },
  {
   "cell_type": "code",
   "source": [
    "# Aplatissement des données\n",
    "X_train_flat = X_train.reshape(len(X_train), -1)\n",
    "X_test_flat = X_test.reshape(len(X_test), -1)"
   ],
   "metadata": {
    "id": "XtjjIB8TdGlq"
   },
   "execution_count": null,
   "outputs": []
  },
  {
   "cell_type": "markdown",
   "source": "#### k-NN",
   "metadata": {
    "id": "o6CUqPqDNFM1"
   }
  },
  {
   "cell_type": "code",
   "execution_count": null,
   "metadata": {
    "colab": {
     "base_uri": "https://localhost:8080/"
    },
    "id": "8ptqN7n8C8Y7",
    "outputId": "91e67e63-f484-4cc1-d692-cb5bca204d7d"
   },
   "outputs": [
    {
     "output_type": "stream",
     "name": "stdout",
     "text": [
      "Précision k-NN : 96.88%\n"
     ]
    }
   ],
   "source": [
    "# Initialisation du modèle\n",
    "knn = KNeighborsClassifier(n_neighbors=5) # Nous utiliserons les 5 voisins les + proches pour nos prédictions\n",
    "\n",
    "# Entrainement du modèle\n",
    "knn.fit(X_train_flat, y_train)\n",
    "\n",
    "# Évaluer la précision\n",
    "knn_acc = knn.score(X_test_flat, y_test)\n",
    "print(f\"Précision k-NN : {knn_acc:.2%}\")\n"
   ]
  },
  {
   "cell_type": "markdown",
   "source": "#### Régression Logistique",
   "metadata": {
    "id": "yCHoMBPENLOa"
   }
  },
  {
   "cell_type": "code",
   "source": [
    "# Initialisation du modèle\n",
    "log_reg = LogisticRegression(max_iter=1000)\n",
    "\n",
    "# Entrainement du modèle\n",
    "log_reg.fit(X_train_flat, y_train)\n",
    "\n",
    "# Évaluer la précision\n",
    "log_reg_acc = log_reg.score(X_test_flat, y_test)\n",
    "print(f\"Précision Régression Logistique : {log_reg_acc:.2%}\")"
   ],
   "metadata": {
    "id": "amucy6feNPPS",
    "colab": {
     "base_uri": "https://localhost:8080/"
    },
    "outputId": "4b7de09d-a690-4413-e403-72413fc134c2"
   },
   "execution_count": null,
   "outputs": [
    {
     "output_type": "stream",
     "name": "stdout",
     "text": [
      "Précision Régression Logistique : 92.58%\n"
     ]
    }
   ]
  },
  {
   "cell_type": "markdown",
   "source": [
    "Le modèle CNN obtient la meilleure précision (99.00 %) parmi les trois pour cette comparaison initiale. Le k-NN (96.88 %) et la régression logistique (92.58 %) montrent des performances correctes, mais pourraient être limités par leur dépendance à une représentation aplatie des données."
   ],
   "metadata": {
    "id": "DHNyc0yswovf"
   }
  },
  {
   "cell_type": "markdown",
   "source": "## Partie 2 : Réponses aux questions",
   "metadata": {
    "id": "BhySGb_AMqjm"
   }
  },
  {
   "cell_type": "markdown",
   "source": "### Question 1 : Histogramme pour tous $x$ dans la base de validation de $m(x)$",
   "metadata": {
    "id": "KeDb__SSOzyA"
   }
  },
  {
   "cell_type": "code",
   "source": [
    "# Prédictions du modèle sur les données de test\n",
    "pred_test_cnn = cnn.predict(X_test)\n",
    "\n",
    "# Extraire la probabilité maximale pour chaque prédiction\n",
    "m_x_cnn = np.max(pred_test_cnn, axis=1)"
   ],
   "metadata": {
    "colab": {
     "base_uri": "https://localhost:8080/"
    },
    "id": "8wU_HO8epbSe",
    "outputId": "985d2cd3-94f7-4c1d-c139-c3b992cabe6d"
   },
   "execution_count": null,
   "outputs": [
    {
     "output_type": "stream",
     "name": "stdout",
     "text": [
      "\u001B[1m313/313\u001B[0m \u001B[32m━━━━━━━━━━━━━━━━━━━━\u001B[0m\u001B[37m\u001B[0m \u001B[1m1s\u001B[0m 2ms/step\n"
     ]
    }
   ]
  },
  {
   "cell_type": "code",
   "execution_count": null,
   "metadata": {
    "colab": {
     "base_uri": "https://localhost:8080/",
     "height": 472
    },
    "id": "_ACGaHAsDOFn",
    "outputId": "17861e85-a7a8-466c-ba26-041caa4ae016"
   },
   "outputs": [
    {
     "output_type": "display_data",
     "data": {
      "text/plain": [
       "<Figure size 640x480 with 1 Axes>"
      ],
      "image/png": "[encoded data removed]"
     },
     "metadata": {}
    }
   ],
   "source": [
    "# Histogramme de m(x)\n",
    "plt.hist(m_x_cnn, bins=30, edgecolor='k')\n",
    "plt.xlabel('m(x)')\n",
    "plt.ylabel('Fréquence')\n",
    "plt.title('Histogramme de m(x) pour CNN')\n",
    "plt.show()"
   ]
  },
  {
   "cell_type": "markdown",
   "source": [
    "L'histogramme représente les valeurs de $m(x)$ obtenu avec un CNN, définies comme la probabilité maximale prédite par le modèle pour chaque exemple x de la base de validation. L'axe x indique les valeurs de $m(x)$ (allant de 0 à 1), et l'axe y montre la fréquence de ces valeurs. Cela permet d'évaluer la confiance du modèle dans ses prédictions.\n",
    "\n",
    "Dans ce cas, l'histogramme montre que la plupart des valeurs de $m(x)$ sont concentrées autour de 1, ce qui signifie que le modèle est très confiant dans ses prédictions. Avec un taux d'accuracy supérieur à 98 %, cette confiance élevée est bien justifiée, reflétant une capacité solide du modèle à classifier correctement les données de test. Cette distribution confirme donc non seulement la confiance du modèle, mais aussi sa précision élevée."
   ],
   "metadata": {
    "id": "sLTU3FBjfHgp"
   }
  },
  {
   "cell_type": "markdown",
   "source": "### Comparaison des résultats du modèle avec les modèles k-NN et Régresion Logistique",
   "metadata": {
    "id": "FtTANkrxoyMB"
   }
  },
  {
   "cell_type": "markdown",
   "source": "#### k-NN",
   "metadata": {
    "id": "ykfgjJxPpEuN"
   }
  },
  {
   "cell_type": "code",
   "source": [
    "# Prédictions du modèle sur les données de test\n",
    "pred_test_knn = knn.predict_proba(X_test_flat)\n",
    "\n",
    "# Extraire la probabilité maximale pour chaque prédiction\n",
    "m_x_knn = np.max(pred_test_knn, axis=1)"
   ],
   "metadata": {
    "id": "XxRWLwiCpT-k"
   },
   "execution_count": null,
   "outputs": []
  },
  {
   "cell_type": "code",
   "source": [
    "# Création de l'histogramme des valeurs de m(x)\n",
    "plt.hist(m_x_knn, bins=50, alpha=0.7, color='blue', edgecolor='black')\n",
    "plt.title(\"Histogramme de m(x) pour k-NN\")\n",
    "plt.xlabel(\"m(x)\")\n",
    "plt.ylabel(\"Fréquence\")\n",
    "plt.show()"
   ],
   "metadata": {
    "colab": {
     "base_uri": "https://localhost:8080/",
     "height": 472
    },
    "id": "PxihwJiJpHGV",
    "outputId": "d00f75cc-50a8-4f82-91e9-e052bd3888d4"
   },
   "execution_count": null,
   "outputs": [
    {
     "output_type": "display_data",
     "data": {
      "text/plain": [
       "<Figure size 640x480 with 1 Axes>"
      ],
      "image/png": "[encoded data removed]"
     },
     "metadata": {}
    }
   ]
  },
  {
   "cell_type": "markdown",
   "source": [
    "L'histogramme de $m(x)$ obtenu avec k-NN montre une forte concentration à 1, mais également des pics significatifs à des valeurs inférieures, comme 0.4, 0.6, et 0.8. Ces valeurs restent discrètes en raison de l'algorithme k-NN en lui-même, qui se base uniquement sur les proportions (des voisins). Cela limite sa capacité à bien gérer les cas où les frontières entre classes sont ambiguës (par exemple un 1 et un 4), et souligne donc une moins bonne séparation des données, pour les échantillons difficiles."
   ],
   "metadata": {
    "id": "2r9ifXgtrhdj"
   }
  },
  {
   "cell_type": "markdown",
   "source": "#### Régression Logistique",
   "metadata": {
    "id": "z5O0y0LzqtMp"
   }
  },
  {
   "cell_type": "code",
   "source": [
    "# Prédictions du modèle sur les données de test\n",
    "pred_test_reg = log_reg.predict_proba(X_test_flat)\n",
    "\n",
    "# Extraire la probabilité maximale pour chaque prédiction\n",
    "m_x_reg = np.max(pred_test_reg, axis=1)"
   ],
   "metadata": {
    "id": "OseeIoyDquLc"
   },
   "execution_count": null,
   "outputs": []
  },
  {
   "cell_type": "code",
   "source": [
    "# Création de l'histogramme des valeurs de m(x)\n",
    "plt.hist(m_x_reg, bins=50, alpha=0.7, color='blue', edgecolor='black')\n",
    "plt.title(\"Histogramme de m(x) pour une Régression Logistique\")\n",
    "plt.xlabel(\"m(x)\")\n",
    "plt.ylabel(\"Fréquence\")\n",
    "plt.show()"
   ],
   "metadata": {
    "colab": {
     "base_uri": "https://localhost:8080/",
     "height": 472
    },
    "id": "EthHLwAqq3Bk",
    "outputId": "d94bb25d-79f6-4098-d61c-464b94f2b5ee"
   },
   "execution_count": null,
   "outputs": [
    {
     "output_type": "display_data",
     "data": {
      "text/plain": [
       "<Figure size 640x480 with 1 Axes>"
      ],
      "image/png": "[encoded data removed]"
     },
     "metadata": {}
    }
   ]
  },
  {
   "cell_type": "markdown",
   "source": [
    "L'histogramme de $m(x)$ obtenu avec la régression logistique montre une forte concentration de valeurs proches de 1, mais également une distribution plus étendue sur l'intervalle 0.2 à 0.9, contrairement à k-NN. Cela indique que la régression logistique évalue mieux les incertitudes et produit des probabilités plus continues pour les exemples ambigus."
   ],
   "metadata": {
    "id": "WZLr2qilwNPz"
   }
  },
  {
   "cell_type": "markdown",
   "source": "### Question 2 : Calcul de la quantile $mq$ d'ordre $q$ de $m(x)$",
   "metadata": {
    "id": "imj7ZDsyO9Ud"
   }
  },
  {
   "cell_type": "code",
   "execution_count": null,
   "metadata": {
    "colab": {
     "base_uri": "https://localhost:8080/"
    },
    "id": "zBXCnNl4Dhlh",
    "outputId": "43e64810-b9e8-4cdc-d311-bc3423d69170"
   },
   "outputs": [
    {
     "output_type": "stream",
     "name": "stdout",
     "text": [
      "Quantile d'ordre 0.05: 0.9795\n",
      "Quantile d'ordre 0.1: 0.9968\n",
      "Quantile d'ordre 0.25: 0.9998\n",
      "Quantile d'ordre 0.5: 1.0000\n",
      "Quantile d'ordre 0.9: 1.0000\n",
      "Quantile d'ordre 0.99: 1.0000\n"
     ]
    }
   ],
   "source": [
    "q_values = [0.05, 0.10, 0.25, 0.5, 0.9, 0.99]\n",
    "quantiles_cnn = {q: np.quantile(m_x_cnn, q) for q in q_values}\n",
    "for q, mq in quantiles_cnn.items():\n",
    "    print(f\"Quantile d'ordre {q}: {mq:.4f}\")"
   ]
  },
  {
   "cell_type": "code",
   "source": [
    "quantiles_cnn[0.05]"
   ],
   "metadata": {
    "colab": {
     "base_uri": "https://localhost:8080/"
    },
    "id": "tLVhQUr3jt74",
    "outputId": "84a8a2d7-dacf-457e-e882-4def9d48d960"
   },
   "execution_count": null,
   "outputs": [
    {
     "output_type": "execute_result",
     "data": {
      "text/plain": [
       "0.9795004427433014"
      ]
     },
     "metadata": {},
     "execution_count": 28
    }
   ]
  },
  {
   "cell_type": "markdown",
   "source": [
    "Le calcul des différents quantiles pour CNN montre que les valeurs de $m(x)$ augmentent rapidement pour atteindre 1.0 dès q = 0.25. Cela indique que plus de 75 % des exemples sont prédits avec une confiance maximale ($m(x) = 1.0$), tandis que les 5 % inférieurs restent très proches de 1.0 (0.9949). Ce comportement renforce l'idée que le modèle fait des prédictions extrêmement nettes pour la majorité des données, avec une très faible incertitude même pour les exemples les plus difficiles."
   ],
   "metadata": {
    "id": "DsblfQM7fvvX"
   }
  },
  {
   "cell_type": "markdown",
   "source": "### Comparaison des résultats du modèle avec les modèles KNN et Régresion Logistique",
   "metadata": {
    "id": "nDW9s72sruA0"
   }
  },
  {
   "cell_type": "markdown",
   "source": "#### KNN",
   "metadata": {
    "id": "HZapCfMCrwr6"
   }
  },
  {
   "cell_type": "code",
   "source": [
    "quantiles_knn = {q: np.quantile(m_x_knn, q) for q in q_values}\n",
    "for q, mq in quantiles_knn.items():\n",
    "    print(f\"Quantile d'ordre {q}: {mq:.4f}\")"
   ],
   "metadata": {
    "colab": {
     "base_uri": "https://localhost:8080/"
    },
    "id": "i4jkuyuHru1h",
    "outputId": "f2c5d118-3768-4a46-dac8-ec39476af335"
   },
   "execution_count": null,
   "outputs": [
    {
     "output_type": "stream",
     "name": "stdout",
     "text": [
      "Quantile d'ordre 0.05: 0.8000\n",
      "Quantile d'ordre 0.1: 1.0000\n",
      "Quantile d'ordre 0.25: 1.0000\n",
      "Quantile d'ordre 0.5: 1.0000\n",
      "Quantile d'ordre 0.9: 1.0000\n",
      "Quantile d'ordre 0.99: 1.0000\n"
     ]
    }
   ]
  },
  {
   "cell_type": "markdown",
   "source": [
    "Le calcul des quantiles pour k-NN montre que la majorité des prédictions ont une confiance maximale, avec des valeurs de $m(x)$ égales à 1 dès le quantile 0.1. Cependant, le quantile 0.05 est à 0.8, ce qui reflète une dispersion plus marquée pour les exemples les moins confiants. Cette distribution illustre la nature discrète de k-NN, qui dépend des proportions des voisins, et montre une certaine limitation pour les cas ambigus, où la confiance est nettement réduite."
   ],
   "metadata": {
    "id": "uclbTAQozAuz"
   }
  },
  {
   "cell_type": "markdown",
   "source": "#### Régression Logistique",
   "metadata": {
    "id": "ZNKxwZBnx5K1"
   }
  },
  {
   "cell_type": "code",
   "source": [
    "quantiles_reg = {q: np.quantile(m_x_reg, q) for q in q_values}\n",
    "for q, mq in quantiles_reg.items():\n",
    "    print(f\"Quantile d'ordre {q}: {mq:.4f}\")"
   ],
   "metadata": {
    "colab": {
     "base_uri": "https://localhost:8080/"
    },
    "id": "B0o1mM3_x5hZ",
    "outputId": "770419fb-7c3d-448b-f117-8a04bdf067a2"
   },
   "execution_count": null,
   "outputs": [
    {
     "output_type": "stream",
     "name": "stdout",
     "text": [
      "Quantile d'ordre 0.05: 0.5709\n",
      "Quantile d'ordre 0.1: 0.7234\n",
      "Quantile d'ordre 0.25: 0.9212\n",
      "Quantile d'ordre 0.5: 0.9865\n",
      "Quantile d'ordre 0.9: 0.9998\n",
      "Quantile d'ordre 0.99: 1.0000\n"
     ]
    }
   ]
  },
  {
   "cell_type": "markdown",
   "source": [
    "Le calcul des quantiles pour la régression logistique montre une distribution plus étendue des valeurs de $m(x)$. Le quantile 0.05 est à 0.5748, ce qui indique une confiance nettement plus faible pour certains exemples. Les quantiles augmentent progressivement jusqu'à 1 au quantile 0.99, avec une transition plus continue que pour k-NN. Cette distribution reflète la capacité de la régression logistique à gérer les incertitudes de manière plus nuancée, en attribuant des probabilités intermédiaires aux cas ambigus, tout en conservant une forte confiance pour la majorité des exemples."
   ],
   "metadata": {
    "id": "8j44vJEAzL5B"
   }
  },
  {
   "cell_type": "markdown",
   "source": "### Question : Comparaison global des différents modèles",
   "metadata": {
    "id": "b5QRgoeTzWlQ"
   }
  },
  {
   "cell_type": "markdown",
   "source": [
    "Les trois modèles (CNN, k-NN et régression logistique) ont été comparés sur leur performance à classer les données MNIST. Le modèle CNN se distingue avec une précision de 99.00 %, contre 96.88 % pour k-NN et 92.58 % pour la régression logistique. L'histogramme de $m(x)$ pour le CNN montre une très forte concentration autour de 1, illustrant une confiance extrême dans les prédictions. En revanche, k-NN présente des valeurs discrètes et moins nuancées, tandis que la régression logistique propose une distribution plus continue mais moins précise.\n",
    "\n",
    "Le modèle CNN est le plus performant, combinant une précision élevée et une confiance nette dans ses prédictions. Ses capacités à extraire des caractéristiques complexes et à s’adapter à des données non linéaires en font le meilleur choix pour cette tâche, surpassant les autres modèles."
   ],
   "metadata": {
    "id": "F-qF6w_jzdLh"
   }
  },
  {
   "cell_type": "markdown",
   "source": "### Question 3 : Optimiser une image x pour maximiser une probabilité $p_i(x)$.",
   "metadata": {
    "id": "1TWvT0l0PLzT"
   }
  },
  {
   "cell_type": "markdown",
   "source": [
    "Pour une image $x$, nous cherchons à maximiser la probabilité associée à une classe cible $i$ :\n",
    "\n",
    "$$\\max_x p_i(x),$$\n",
    "\n",
    "où $p_i(x)$ est la sortie associée à la classe $i$ dans le vecteur de probabilités $p(x) = \\text{model}(x)$.\n",
    "\n",
    "La mise à jour des pixels de l'image $x$ se fait par **gradient ascent** :\n",
    "\n",
    "$$x \\leftarrow x + \\eta \\cdot \\nabla_x p_i(x),$$\n",
    "\n",
    "où :\n",
    "- $\\eta$ est le taux d'apprentissage,\n",
    "- $\\nabla_x p_i(x)$ est le gradient de $p_i(x)$ par rapport à $x$.<br><br><br>\n",
    "\n",
    "\n",
    "**Étape de Clipping**\n",
    "\n",
    "Les valeurs des pixels d'une image doivent rester dans l'intervalle $[0, 1]$ pour représenter une image valide. Après chaque mise à jour de $x$, nous utilisons une opération de clipping pour garantir que les valeurs des pixels ne dépassent pas cette plage :\n",
    "\n",
    "$$x \\leftarrow \\text{clip}(x, 0, 1).$$\n",
    "\n",
    "En pratique, cela revient à :\n",
    "\n",
    "- Remplacer toute valeur de pixel $x_i < 0$ par $0$,\n",
    "- Remplacer toute valeur de pixel $x_i > 1$ par $1$.<br><br><br>\n",
    "\n",
    "\n",
    "**1. Approche Basique**\n",
    "\n",
    "Nous avons dans un premier temps suivi une approche \"classique\". La fonction perte est définie comme l'opposé de la probabilité $p_i(x)$ :\n",
    "\n",
    "$$\\text{Loss}(x) = -p_i(x).$$\n",
    "\n",
    "Le gradient est calculé comme :\n",
    "\n",
    "$$\\nabla_x \\text{Loss}(x) = -\\nabla_x p_i(x),$$\n",
    "\n",
    "et l'image est mise à jour selon :\n",
    "\n",
    "$$x \\leftarrow x - \\eta \\cdot \\nabla_x p_i(x).$$\n",
    "\n",
    "avec un critère d'arrêt basé sur la norme du gradient :\n",
    "\n",
    "$$\\|\\nabla_x p_i(x)\\| < \\epsilon.$$\n",
    "\n",
    "Le problème que nous avons renontré était que les gradients étaient très petits (proches de zéro). Cela entraînait une stagnation c'est-à-dire une absence de progression.<br><br><br>\n",
    "\n",
    "**Apprcohe adoptée**\n",
    "\n",
    "Pour contourner, ce problème nous avons apporté les modifications suivantes : ici, nous utilisons une perte logarithmique pour une meilleure stabilité numérique :\n",
    "\n",
    "$$\\text{Loss}(x) = -\\log(p_i(x) + \\epsilon),$$\n",
    "\n",
    "où $\\epsilon$ est une petite constante pour éviter les problèmes lorsque $p_i(x) \\approx 0$. ($\\epsilon$  = 10^(-10) )\n",
    "\n",
    "De plus, les gradients sont normalisés pour stabiliser les mises à jour :\n",
    "\n",
    "$$\\tilde{\\nabla}_x = \\frac{\\nabla_x \\text{Loss}(x)}{\\|\\nabla_x \\text{Loss}(x)\\| + \\epsilon},$$\n",
    "\n",
    "et l'image est mise à jour par :\n",
    "\n",
    "$$x \\leftarrow x - \\eta \\cdot \\tilde{\\nabla}_x.$$\n",
    "\n",
    "La perte utilisée garantit que la perte est bien conditionnée même si $p_i(x)$ est proche de 0. Cette fonction de perte est plus stable que l'opposé de $p_i(x)$.\n",
    "\n",
    "La normalisation garantit que les mises à jour sont proportionnées à la direction du gradient, sans être influencées par l’amplitude du gradient.\n"
   ],
   "metadata": {
    "id": "h7BcpJaI1c68"
   }
  },
  {
   "cell_type": "code",
   "execution_count": null,
   "metadata": {
    "id": "Qd7M2d3JDkKc"
   },
   "outputs": [],
   "source": [
    "def optimize_image_cnn(model, initial_image, target_class, target_prob, learning_rate=1, max_iterations=500):\n",
    "    \"\"\"\n",
    "    Optimise une image pour maximiser la probabilité d'une classe cible.\n",
    "\n",
    "    Args:\n",
    "        model: le modèle CNN entraîné\n",
    "        initial_image: l'image de départ\n",
    "        target_class: la classe cible (0-9)\n",
    "        target_prob: la probabilité cible à atteindre\n",
    "        learning_rate: taux d'apprentissage pour l'optimisation\n",
    "        max_iterations: nombre maximum d'itérations\n",
    "    \"\"\"\n",
    "    # Convertir l'image initiale en Variable TensorFlow\n",
    "    image = tf.Variable(initial_image, dtype=tf.float32)\n",
    "\n",
    "    # Garder trace des probabilités pour visualisation\n",
    "    probs_history = []\n",
    "\n",
    "    # Optimisation\n",
    "    for i in range(max_iterations):\n",
    "        with tf.GradientTape() as tape:\n",
    "            # Ajouter dimension batch et obtenir prédictions\n",
    "            predictions = model(tf.expand_dims(image, 0))\n",
    "            # Loss: négative log probability pour la classe cible\n",
    "            loss = -tf.math.log(predictions[0, target_class] + 1e-10)\n",
    "\n",
    "        # Calculer gradients\n",
    "        gradients = tape.gradient(loss, image)\n",
    "\n",
    "        # Normaliser les gradients\n",
    "        gradients = gradients / (tf.norm(gradients) + 1e-10)\n",
    "\n",
    "        # Mettre à jour l'image\n",
    "        image.assign_sub(learning_rate * gradients)\n",
    "\n",
    "        # Clipper les valeurs entre 0 et 1\n",
    "        image.assign(tf.clip_by_value(image, 0, 1))\n",
    "\n",
    "        # Obtenir la probabilité actuelle\n",
    "        current_prob = model(tf.expand_dims(image, 0))[0, target_class].numpy()\n",
    "        probs_history.append(current_prob)\n",
    "\n",
    "        # Afficher le progrès toutes les 50 itérations\n",
    "        if i % 50 == 0:\n",
    "            print(f\"Iteration {i}, Probabilité pour classe {target_class}: {current_prob:.4f}\")\n",
    "\n",
    "        # Critère d'arrêt\n",
    "        if current_prob >= target_prob:\n",
    "            print(f\"Succès! Probabilité cible atteinte en {i} itérations\")\n",
    "            break\n",
    "    return image.numpy(), probs_history"
   ]
  },
  {
   "cell_type": "markdown",
   "source": "### Question 4 : Dessinez le resultat pour plusieurs choix initiaux.",
   "metadata": {
    "id": "3d4PSMij5pNv"
   }
  },
  {
   "cell_type": "code",
   "source": [
    "def visualize_image_optimization(model, X_test, optimize_function, learning_rate, max_iter, quantiles=[0.5, 0.9, 0.99]):\n",
    "  \"\"\"\n",
    "    Visualise l'optimisation d'une image dans X_test pour plusieurs quantiles.\n",
    "\n",
    "    Args:\n",
    "        model: Le modèle utilisé.\n",
    "        X_test: Les données de test.\n",
    "        optimize_function: La fonction d'optimisation associée au modèle.\n",
    "        model_type: Le type de modèle ('cnn', 'knn', 'logistic').\n",
    "        mq: Paramètre utilisé dans la fonction d'optimisation (si applicable).\n",
    "        quantiles: Liste des quantiles à tester (par défaut [0.5, 0.9, 0.99]).\n",
    "\n",
    "    Returns:\n",
    "        None\n",
    "    \"\"\"\n",
    "  for q in quantiles:\n",
    "    # Sélectionner une image aléatoire dans X_test\n",
    "    idx = np.random.randint(len(X_test))\n",
    "    x0 = X_test[idx]\n",
    "\n",
    "    # Obtenir la classe réelle de l'image\n",
    "    true_class = y_test[idx]\n",
    "\n",
    "    # Choisir une classe cible différente de la classe réelle\n",
    "    target_class = true_class\n",
    "    while target_class == true_class:\n",
    "      target_class = np.random.randint(10)  # Choisir une classe cible aléatoire entre 0 et 9\n",
    "\n",
    "    print(f\"Quantile cible : {q} | Probabilité cible : {quantiles_cnn[q]:.4f} | Classe cible sélectionnée : {target_class}\")\n",
    "\n",
    "\n",
    "    # Obtenir la probabilité initiale pour CNN\n",
    "    preds = model.predict(x0[np.newaxis, ...])\n",
    "    initial_prob = preds[0, target_class]\n",
    "    print(f\"Probabilité initiale pour la classe {target_class} : {initial_prob:.4f}\")\n",
    "\n",
    "    # Optimiser l'image\n",
    "    optimized_x, probs_history = optimize_function(model, x0, target_class, quantiles_cnn[q], learning_rate=learning_rate, max_iterations=max_iter)\n",
    "\n",
    "    # Obtenir la probabilité optimisée\n",
    "    optimized_preds = model.predict(optimized_x[np.newaxis, ...])\n",
    "    optimized_prob = optimized_preds[0, target_class]\n",
    "\n",
    "    print(f\"Probabilité optimisée pour la classe {target_class} : {optimized_prob:.4f}\")\n",
    "\n",
    "    # Créer un subplot 2x2\n",
    "    fig = plt.figure(figsize=(10, 8))\n",
    "\n",
    "    # Afficher l'image initiale\n",
    "    ax1 = fig.add_subplot(2, 2, 1)\n",
    "    ax1.imshow(x0.reshape(28, 28), cmap='gray')\n",
    "    ax1.set_title(f\"Image initiale\\nProba cible: {initial_prob:.4f}\")\n",
    "    ax1.axis('off')\n",
    "\n",
    "    # Afficher l'image optimisée\n",
    "    ax2 = fig.add_subplot(2, 2, 2)\n",
    "    ax2.imshow(optimized_x.reshape(28, 28), cmap='gray')\n",
    "    ax2.set_title(f\"Image optimisée\\nProba cible: {optimized_prob:.4f}\")\n",
    "    ax2.axis('off')\n",
    "\n",
    "    # Tracer l'évolution de la probabilité\n",
    "    ax3 = fig.add_subplot(2, 2, (3, 4))\n",
    "    ax3.plot(probs_history)\n",
    "    ax3.set_title(f'Evolution de la probabilité pour la classe {target_class}')\n",
    "    ax3.set_xlabel('Itération')\n",
    "    ax3.set_ylabel('Probabilité')\n",
    "    ax3.grid(True)\n",
    "\n",
    "    # Ajouter un titre général\n",
    "    plt.suptitle(f\"Quantile : {q} | Classe cible : {target_class}\", fontsize=14)\n",
    "    plt.tight_layout()\n",
    "    plt.show()"
   ],
   "metadata": {
    "id": "B3ruJrTn-lkz"
   },
   "execution_count": null,
   "outputs": []
  },
  {
   "cell_type": "code",
   "source": [
    "visualize_image_optimization(cnn, X_test, optimize_image_cnn, 0.01, 10000, [0.05, 0.1, 0.25])"
   ],
   "metadata": {
    "colab": {
     "base_uri": "https://localhost:8080/",
     "height": 1000
    },
    "id": "Vgm7SdWy6393",
    "outputId": "b1ae1ab2-c74e-4a94-fd87-3aa5a8b38faf"
   },
   "execution_count": null,
   "outputs": [
    {
     "output_type": "stream",
     "name": "stdout",
     "text": [
      "Quantile cible : 0.05 | Probabilité cible : 0.9795 | Classe cible sélectionnée : 2\n",
      "\u001B[1m1/1\u001B[0m \u001B[32m━━━━━━━━━━━━━━━━━━━━\u001B[0m\u001B[37m\u001B[0m \u001B[1m0s\u001B[0m 374ms/step\n",
      "Probabilité initiale pour la classe 2 : 0.0000\n",
      "Iteration 0, Probabilité pour classe 2: 0.0000\n",
      "Iteration 50, Probabilité pour classe 2: 0.0000\n",
      "Iteration 100, Probabilité pour classe 2: 0.0000\n",
      "Iteration 150, Probabilité pour classe 2: 0.0006\n",
      "Iteration 200, Probabilité pour classe 2: 0.0098\n",
      "Iteration 250, Probabilité pour classe 2: 0.1747\n",
      "Iteration 300, Probabilité pour classe 2: 0.7969\n",
      "Succès! Probabilité cible atteinte en 348 itérations\n",
      "\u001B[1m1/1\u001B[0m \u001B[32m━━━━━━━━━━━━━━━━━━━━\u001B[0m\u001B[37m\u001B[0m \u001B[1m0s\u001B[0m 28ms/step\n",
      "Probabilité optimisée pour la classe 2 : 0.9799\n"
     ]
    },
    {
     "output_type": "display_data",
     "data": {
      "text/plain": [
       "<Figure size 1000x800 with 3 Axes>"
      ],
      "image/png": "[encoded data removed]"
     },
     "metadata": {}
    },
    {
     "output_type": "stream",
     "name": "stdout",
     "text": [
      "Quantile cible : 0.1 | Probabilité cible : 0.9968 | Classe cible sélectionnée : 0\n",
      "\u001B[1m1/1\u001B[0m \u001B[32m━━━━━━━━━━━━━━━━━━━━\u001B[0m\u001B[37m\u001B[0m \u001B[1m0s\u001B[0m 29ms/step\n",
      "Probabilité initiale pour la classe 0 : 0.0000\n",
      "Iteration 0, Probabilité pour classe 0: 0.0000\n",
      "Iteration 50, Probabilité pour classe 0: 0.0000\n",
      "Iteration 100, Probabilité pour classe 0: 0.0000\n",
      "Iteration 150, Probabilité pour classe 0: 0.0000\n",
      "Iteration 200, Probabilité pour classe 0: 0.0000\n",
      "Iteration 250, Probabilité pour classe 0: 0.0009\n",
      "Iteration 300, Probabilité pour classe 0: 0.0120\n",
      "Iteration 350, Probabilité pour classe 0: 0.1035\n",
      "Iteration 400, Probabilité pour classe 0: 0.4507\n",
      "Iteration 450, Probabilité pour classe 0: 0.8635\n",
      "Iteration 500, Probabilité pour classe 0: 0.9654\n",
      "Iteration 550, Probabilité pour classe 0: 0.9884\n",
      "Iteration 600, Probabilité pour classe 0: 0.9954\n",
      "Succès! Probabilité cible atteinte en 623 itérations\n",
      "\u001B[1m1/1\u001B[0m \u001B[32m━━━━━━━━━━━━━━━━━━━━\u001B[0m\u001B[37m\u001B[0m \u001B[1m0s\u001B[0m 16ms/step\n",
      "Probabilité optimisée pour la classe 0 : 0.9968\n"
     ]
    },
    {
     "output_type": "display_data",
     "data": {
      "text/plain": [
       "<Figure size 1000x800 with 3 Axes>"
      ],
      "image/png": "[encoded data removed]"
     },
     "metadata": {}
    },
    {
     "output_type": "stream",
     "name": "stdout",
     "text": [
      "Quantile cible : 0.25 | Probabilité cible : 0.9998 | Classe cible sélectionnée : 8\n",
      "\u001B[1m1/1\u001B[0m \u001B[32m━━━━━━━━━━━━━━━━━━━━\u001B[0m\u001B[37m\u001B[0m \u001B[1m0s\u001B[0m 19ms/step\n",
      "Probabilité initiale pour la classe 8 : 0.0000\n",
      "Iteration 0, Probabilité pour classe 8: 0.0000\n",
      "Iteration 50, Probabilité pour classe 8: 0.0000\n",
      "Iteration 100, Probabilité pour classe 8: 0.0000\n",
      "Iteration 150, Probabilité pour classe 8: 0.0001\n",
      "Iteration 200, Probabilité pour classe 8: 0.0092\n",
      "Iteration 250, Probabilité pour classe 8: 0.3158\n",
      "Iteration 300, Probabilité pour classe 8: 0.9520\n",
      "Iteration 350, Probabilité pour classe 8: 0.9977\n",
      "Succès! Probabilité cible atteinte en 397 itérations\n",
      "\u001B[1m1/1\u001B[0m \u001B[32m━━━━━━━━━━━━━━━━━━━━\u001B[0m\u001B[37m\u001B[0m \u001B[1m0s\u001B[0m 16ms/step\n",
      "Probabilité optimisée pour la classe 8 : 0.9998\n"
     ]
    },
    {
     "output_type": "display_data",
     "data": {
      "text/plain": [
       "<Figure size 1000x800 with 3 Axes>"
      ],
      "image/png": "[encoded data removed]"
     },
     "metadata": {}
    }
   ]
  },
  {
   "cell_type": "markdown",
   "source": [
    "L'optimisation d'une image via un CNN repose sur un ajustement progressif des pixels pour maximiser la probabilité d'une classe cible. Le choix du taux d'apprentissage (learning rate) est crucial pour garantir la convergence vers la probabilité souhaitée.\n",
    "\n",
    "Un taux d'apprentissage trop élevé peut entraîner des mises à jour trop brutales, rendant l'optimisation instable et empêchant le modèle d'atteindre la probabilité cible. Cela peut provoquer des oscillations autour de la solution optimale ou même l'échec de l'optimisation.\n",
    "\n",
    "À l'inverse, un taux d'apprentissage trop faible conduit à des mises à jour trop lentes, augmentant considérablement le nombre d'itérations nécessaires pour atteindre la probabilité cible."
   ],
   "metadata": {
    "id": "cQUAfVM1NQC4"
   }
  },
  {
   "cell_type": "markdown",
   "source": [
    "# Question bonus : Optimisation via k-NN"
   ],
   "metadata": {
    "id": "nlRllXsR0XZu"
   }
  },
  {
   "cell_type": "markdown",
   "source": [
    "# Optimisation d’une image via k-NN\n",
    "\n",
    "## 1. Maximisation de la probabilité prédisant la classe\n",
    "\n",
    "Dans le cas précédent d’un réseau de neurones , la fonction $p_i(x)$ désignait directement la probabilité prédisant la classe $i$ pour l’image $x$.\n",
    "\n",
    "Dans le cas du k-NN, nous définissons une \"pseudo-probabilité\", $p_i(x)$ comme étant la fraction de voisins (parmi les $k$ plus proches voisins) qui appartiennent à la classe $i$.\n",
    "\n",
    "Autrement dit :\n",
    "\n",
    "$$\n",
    "p_i(x) = \\frac{\\text{nbr de voisins dont la classe est } i}{k}.\n",
    "$$\n",
    "\n",
    "Nous cherchons à optimiser $x$ de manière à maximiser $p_i(x)$, i.e $$\n",
    "\\max_x p_i(x).\n",
    "$$\n",
    "\n",
    "## 2. La mise à jour de $ x $\n",
    "\n",
    "Contrairement au réseau de neurones, la fonction $p_i(x)$ du k-NN n’est pas différentiable au sens classique, car $p_i(x)$ dépend de la distance entre $x$ et chaque point d’entraînement.\n",
    "\n",
    "Cependant, nous pouvons approximer la direction où augemente $p_i(x)$ en nous basant sur la position des plus proches voisins de $x$.\n",
    "\n",
    "### Processus de mise à jour\n",
    "\n",
    "#### 1. Calcul des plus proches voisins  \n",
    "À chaque itération, nous identifions l’ensemble des $k$ plus proches voisins de notre image (vecteur) $x$, notons leurs indices :  $ \\{n_1, n_2, \\dots, n_k\\}.$\n",
    "\n",
    "#### 2. Estimation de $p_i(x)$  \n",
    "\n",
    "La fraction  \n",
    "$$\n",
    "\\frac{\\text{nombre de voisins de classe } i}{k}\n",
    "$$  \n",
    "nous indique la probabilité courante $p_i(x)$.\n",
    "\n",
    "Si $p_i(x)$ atteint déjà la valeur cible (ou dépasse un certain seuil), nous pouvons stopper l’optimisation.\n",
    "\n",
    "#### 3. Approximation du \"gradient\"  \n",
    "Même si $p_i(x)$ n’est pas différentiable, on peut chercher une direction dans laquelle déplacer $x$ pour se rapprocher des voisin qui sont dans la classe $i$.  \n",
    "\n",
    "En pratique, on peut par exemple sommer les vecteurs $ (x - X^{(n_j)}_{\\text{train}}) $ pour chacun des $ k $ voisins (ou uniquement ceux qui ne sont pas de la classe $ i $), afin d’obtenir une direction moyenne qui éloigne $ x $ de ces points-là et le rapproche potentiellement de ceux de la classe cible.  \n",
    "\n",
    "On définit ensuite une MAJ de la forme :  \n",
    "$$\n",
    "x \\leftarrow x - \\eta \\cdot \\text{direction},\n",
    "$$  \n",
    "où $ \\eta$ est le taux d’apprentissage.\n",
    "\n",
    "\n",
    "## 3. Critères d’arrêt\n",
    "\n",
    "### 1. Seuil de probabilité  \n",
    "Comme pour le CNN, nous pouvons arrêter le processus dès que :  \n",
    "$$\n",
    "p_i(x) \\geq \\text{seuil}.\n",
    "$$\n",
    "\n",
    "### 2. Nombre maximum d’itérations  \n",
    "Pour éviter une boucle infinie, on fixe également un nombre maximal d’itérations.\n",
    "\n",
    "#### 3. Masque aléatoire  \n",
    "Pour éviter de modifier tous les pixels de manière simultanée, on peut appliquer un masque aléatoire sur les MAJ, c’est-à-dire ne mettre à jour qu’un certain pourcentage de composantes de $ x $ à chaque itération. Pour éviter les problèmes de minima locaux que nous avons rencontrés précédemment.\n",
    "\n",
    "\n"
   ],
   "metadata": {
    "id": "DCkBYn57V7HU"
   }
  },
  {
   "cell_type": "code",
   "source": [
    "def optimize_x_knn(x0, target_label, model, threshold, max_iter=1000, lr=0.1):\n",
    "    x = x0.copy()\n",
    "    for _ in range(max_iter):\n",
    "        # Trouver les voisins les plus proches\n",
    "        neighbors = model.kneighbors(x.reshape(1, -1), return_distance=False)\n",
    "        neighbor_labels = y_train[neighbors[0]]\n",
    "\n",
    "        # Calcul de p_i(x)\n",
    "        counts = np.bincount(neighbor_labels, minlength=10)\n",
    "        p_i_x = counts[target_label] / neighbors.shape[1]\n",
    "\n",
    "        if p_i_x >= threshold:\n",
    "            break\n",
    "\n",
    "        # Approximation du \"gradient\"\n",
    "        gradient = np.zeros_like(x)\n",
    "        for idx in neighbors[0]:\n",
    "            diff = x - X_train_flat[idx]\n",
    "            gradient += diff\n",
    "        gradient /= len(neighbors[0]) # en moyenne\n",
    "\n",
    "        # Masque aléatoire\n",
    "        mask = np.random.choice([0, 1], size=x.shape, p=[0.9, 0.1])\n",
    "        x += lr * gradient * mask\n",
    "\n",
    "    return x"
   ],
   "metadata": {
    "id": "sFlTOAeBA-kj"
   },
   "execution_count": null,
   "outputs": []
  },
  {
   "cell_type": "code",
   "source": [
    "# Sélection d'une image de test # 1 minute\n",
    "idx = np.random.randint(len(X_test_flat))  # Sélection d'une image aléatoire\n",
    "x0 = X_test_flat[idx]  # Image initiale\n",
    "\n",
    "# Choix d'une classe cible\n",
    "target_label = np.random.randint(10)  # Classe cible choisie aléatoirement\n",
    "\n",
    "# Prédiction initiale pour obtenir le label initial\n",
    "neighbors_initial = knn.kneighbors(x0.reshape(1, -1), return_distance=False)\n",
    "neighbor_labels_initial = y_train[neighbors_initial[0]]\n",
    "initial_label = np.argmax(np.bincount(neighbor_labels_initial))  # Classe prédite initialement\n",
    "\n",
    "# Optimisation de l'image\n",
    "threshold = 1.0  # Probabilité cible à atteindre\n",
    "optimized_x = optimize_x_knn(x0, target_label, knn, 1)\n",
    "\n",
    "# Prédiction après optimisation pour afficher la probabilité finale\n",
    "neighbors_optimized = knn.kneighbors(optimized_x.reshape(1, -1), return_distance=False)\n",
    "neighbor_labels_optimized = y_train[neighbors_optimized[0]]\n",
    "final_prob = np.max(np.bincount(neighbor_labels_optimized) / len(neighbor_labels_optimized))\n",
    "\n",
    "# Affichage côte à côte\n",
    "fig, axes = plt.subplots(1, 2, figsize=(10, 5))  # Création figure avec 2 sous-graphes\n",
    "axes[0].imshow(x0.reshape(28, 28), cmap='gray')  # Affichage de l'image initiale\n",
    "axes[0].set_title(\"Entrée initiale\")\n",
    "axes[0].axis('off')\n",
    "\n",
    "axes[1].imshow(optimized_x.reshape(28, 28), cmap='gray')  # Affichage de l'image optimisée\n",
    "axes[1].set_title(\"Résultat optimisé\")\n",
    "axes[1].axis('off')\n",
    "\n",
    "# Ajouter un titre global avec le label initial, la classe cible, et la probabilité finale\n",
    "plt.suptitle(f\"Label initial: {initial_label}, Label cible: {target_label}, Probabilité finale: {final_prob:.2f}\")\n",
    "plt.show()"
   ],
   "metadata": {
    "colab": {
     "base_uri": "https://localhost:8080/",
     "height": 455
    },
    "id": "ipn6U_cNMLwW",
    "outputId": "fb60ffe3-e74d-4a11-9441-92f6466ba237"
   },
   "execution_count": null,
   "outputs": [
    {
     "output_type": "display_data",
     "data": {
      "text/plain": [
       "<Figure size 1000x500 with 2 Axes>"
      ],
      "image/png": "[encoded data removed]"
     },
     "metadata": {}
    }
   ]
  },
  {
   "cell_type": "markdown",
   "source": [
    "### Analyse de l'optimisation\n",
    "\n",
    "#### Résultats obtenus via k-NN\n",
    "L’optimisation via k-NN repose sur l’ajustement de l’image en fonction des voisins les plus proches. Cependant, les résultats montrent rapidement les limites de cette méthode.\n",
    "\n",
    "L’image optimisée est floue et n’affiche pas clairement les traits caractéristiques de la classe cible, ici le 9. Bien que la probabilité associée à cette classe atteigne 0.60, l’optimisation reste largement inefficace pour produire une image reconnaissable. Ces résultats s’expliquent par l’absence de gradients, au lieu de calculs précis, les ajustements sont approximés à partir des différences avec les voisins => des modifications dispersées et incohérentes.\n",
    "\n",
    "De plus, le processus est particulièrement coûteux, car chaque itération nécessite de recalculer les distances entre l’image en cours d’optimisation et toutes les données d’entraînement.\n",
    "\n",
    "#### Comparaison avec CNN\n",
    "L’optimisation via CNN donne des résultats bien plus convaincants. L’image optimisée présente des traits plus structurés et proches de la classe cible, même si la probabilité finale est légèrement inférieure (0.5065 contre 0.60 pour k-NN). Contrairement à k-NN, le CNN utilise des gradients, ce qui rend l’optimisation plus cohérente.\n",
    "\n",
    "De plus, le CNN est nettement plus rapide dans son exécution, il n’a pas besoin de recalculer des distances à chaque itération, ce qui simplifie le processus et le rend bien plus efficace.\n",
    "\n",
    "#### Conclusion\n",
    "Ces résultats confirment les limites de k-NN : bien qu’il atteigne une probabilité acceptable pour la classe cible, l’image optimisée reste incohérente, contrairement au CNN.\n"
   ],
   "metadata": {
    "id": "awCb4cpmsniS"
   }
  },
  {
   "cell_type": "markdown",
   "source": [
    "# Pistes d'exploration et perspectives d'amélioration"
   ],
   "metadata": {
    "id": "6_rXLPQ0egB3"
   }
  },
  {
   "cell_type": "markdown",
   "source": [
    "Nous avons mené à bien tout ce qui était attendu dans ce projet, en explorant différentes approches et en atteignant les objectifs fixés. Ce travail a posé des bases solides, mais il ouvre également la voie à de nombreuses opportunités pour aller plus loin. Ces pistes d’exploration pourraient enrichir les analyses, améliorer les performances des modèles et élargir leurs applications à des problématiques plus variées."
   ],
   "metadata": {
    "id": "AQ9brcW_e_zW"
   }
  },
  {
   "cell_type": "markdown",
   "source": [
    "Un premier axe à approfondir concerne la comparaison avec d'autres modèles. Il pourrait être intéressant d'étudier des algorithmes tels que les SVM ou les arbres voir les forets, pour évaluer leur robustesse, précision et vitesse d'exécution sur des tâches similaires.\n",
    "\n",
    "Ensuite, tester notre méthode sur d'autres jeux de données, comme CIFAR-10 ou F-MNIST, serait une bonne manière d'évaluer leur capacité à s'adapter à des données plus complexes ou d'un autre type. Cela permettrait également de voir comment les modèles se comportent lorsque la quantité ou la nature des données change, pour juger de la polyvalence globale du modèle.\n",
    "\n",
    "Il serait aussi intéressant d'étudier la robustesse des modèles face à des perturbations, comme l'ajout de bruit ou des modifications dans les données d'entrée pour vérifier si le modèle reste fiable dans des conditions moins idéales.\n",
    "\n",
    "Enfin, une piste motivante serait d'adapter ces approches à des applications plus concrètes de la vie de tous les jours, notamment à l'université, comme la reconnaissance d'écriture manuscrite de certains enseignants, dont les écritures au tableau, annotations ou les copies corrigées ne sont pas toujours faciles à lire ... (cf Calcul Stochastique)."
   ],
   "metadata": {
    "id": "bcuOyYRsiw4t"
   }
  }
 ],
 "metadata": {
  "colab": {
   "gpuType": "T4",
   "provenance": []
  },
  "kernelspec": {
   "display_name": "Python 3",
   "name": "python3"
  },
  "language_info": {
   "name": "python"
  },
  "accelerator": "GPU"
 },
 "nbformat": 4,
 "nbformat_minor": 0
}
